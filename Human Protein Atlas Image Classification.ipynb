{
 "cells": [
  {
   "cell_type": "code",
   "execution_count": 3,
   "metadata": {},
   "outputs": [],
   "source": [
    "%reload_ext autoreload\n",
    "%autoreload 2\n",
    "%matplotlib inline"
   ]
  },
  {
   "cell_type": "code",
   "execution_count": 4,
   "metadata": {},
   "outputs": [],
   "source": [
    "from fastai.conv_learner import *"
   ]
  },
  {
   "cell_type": "code",
   "execution_count": 5,
   "metadata": {},
   "outputs": [],
   "source": [
    "PATH = 'storage'\n",
    "label_csv = f'storage/train.csv'\n",
    "n = len(list(open(label_csv)))-1"
   ]
  },
  {
   "cell_type": "code",
   "execution_count": 6,
   "metadata": {},
   "outputs": [],
   "source": [
    "labels = list(map(str, pd.read_csv(label_csv)['Target']))\n",
    "labels = [[int(ll) for ll in l.split()] for l in labels]\n",
    "ohlabels = np.zeros((n, 28))\n",
    "for i, labs in enumerate(labels):\n",
    "    for c in labs:        \n",
    "        ohlabels[i, int(c)] = 1.0"
   ]
  },
  {
   "cell_type": "code",
   "execution_count": 7,
   "metadata": {},
   "outputs": [],
   "source": [
    "# https://github.com/trent-b/iterative-stratification\n",
    "from iterstrat.ml_stratifiers import MultilabelStratifiedShuffleSplit\n",
    "msss = MultilabelStratifiedShuffleSplit(n_splits=1, test_size=0.2, random_state=42)\n",
    "stratified = list(msss.split(np.arange(n), ohlabels))\n",
    "trn_idxs = np.array(list(stratified[0][0]))\n",
    "val_idxs = np.array(list(stratified[0][1]))"
   ]
  },
  {
   "cell_type": "code",
   "execution_count": 8,
   "metadata": {},
   "outputs": [
    {
     "data": {
      "text/plain": [
       "(88452, 22019, 110471, 110471)"
      ]
     },
     "execution_count": 8,
     "metadata": {},
     "output_type": "execute_result"
    }
   ],
   "source": [
    "len(stratified[0][0]), len(stratified[0][1]), len(labels), len(stratified[0][0])+len(stratified[0][1])"
   ]
  },
  {
   "cell_type": "code",
   "execution_count": 9,
   "metadata": {},
   "outputs": [
    {
     "name": "stdout",
     "output_type": "stream",
     "text": [
      "trn label props {0: 0.37771898883009997, 1: 0.0277890833446389, 2: 0.10290326956993624, 3: 0.030988558766336546, 4: 0.04681635237190793, 5: 0.05566861122416678, 6: 0.03504725726947949, 7: 0.08594491927825261, 8: 0.009813232035454257, 9: 0.008908786686564465, 10: 0.00823045267489712, 11: 0.02020304798082576, 12: 0.021231854565187898, 13: 0.013182290960068737, 14: 0.025324469768914212, 15: 0.011396011396011397, 16: 0.015612987835210057, 17: 0.008072174738841406, 18: 0.01824718491385158, 19: 0.033928006150228375, 20: 0.007925202369646814, 21: 0.12874779541446207, 22: 0.025754081309636866, 23: 0.09443539999095554, 24: 0.0077443132998688555, 25: 0.3471826527382083, 26: 0.006387645276534165, 27: 0.005743227965450188}\n",
      "val label props {0: 0.3793541941050911, 1: 0.027930423724964803, 2: 0.10336527544393478, 3: 0.031109496344066487, 4: 0.047004859439574914, 5: 0.05590626277305963, 6: 0.03519687542576865, 7: 0.08628911394704573, 8: 0.009855125119215224, 9: 0.008946818656614742, 10: 0.008265588809664381, 11: 0.02030064943912076, 12: 0.02129978654798129, 13: 0.01326127435396703, 14: 0.02543258095281348, 15: 0.011444661428766066, 16: 0.015668286479858306, 17: 0.008083927517144285, 18: 0.018347790544529723, 19: 0.034061492347518055, 20: 0.007947681547754212, 21: 0.12929742495117852, 22: 0.025841318860983696, 23: 0.09482719469549025, 24: 0.007766020255234116, 25: 0.34865343566919477, 26: 0.006403560561333394, 27: 0.005767746037513057}\n"
     ]
    }
   ],
   "source": [
    "labels_num_flat = [item for sublist in np.array(labels)[trn_idxs] for item in sublist]\n",
    "label_counts = dict((x,labels_num_flat.count(x)/len(trn_idxs)) for x in range(28)) # \n",
    "print('trn label props',label_counts)\n",
    "labels_num_flat = [item for sublist in np.array(labels)[val_idxs] for item in sublist]\n",
    "label_counts = dict((x,labels_num_flat.count(x)/len(val_idxs)) for x in set(labels_num_flat)) # \n",
    "print('val label props',label_counts)"
   ]
  },
  {
   "cell_type": "code",
   "execution_count": 10,
   "metadata": {},
   "outputs": [
    {
     "name": "stdout",
     "output_type": "stream",
     "text": [
      "label_counts {0: 41763, 1: 3073, 2: 11378, 3: 3426, 4: 5176, 5: 6155, 6: 3875, 7: 9502, 8: 1085, 9: 985, 10: 910, 11: 2234, 12: 2347, 13: 1458, 14: 2800, 15: 1260, 16: 1726, 17: 892, 18: 2018, 19: 3751, 20: 876, 21: 14235, 22: 2847, 23: 10441, 24: 856, 25: 38386, 26: 706, 27: 635}\n"
     ]
    }
   ],
   "source": [
    "import pandas as pd\n",
    "train_csv = pd.read_csv('../storage/train.csv')\n",
    "labels_num = [value.split() for value in train_csv['Target'].astype(str)]\n",
    "labels_num_flat = list(map(int, [item for sublist in labels_num for item in sublist]))\n",
    "labels_dict = dict((x,labels_num_flat.count(x)) for x in set(labels_num_flat))\n",
    "print('label_counts',labels_dict)"
   ]
  },
  {
   "cell_type": "code",
   "execution_count": 11,
   "metadata": {},
   "outputs": [
    {
     "name": "stdout",
     "output_type": "stream",
     "text": [
      "\n",
      "True class weights:\n",
      "{0: 4.19, 1: 56.88, 2: 15.36, 3: 51.02, 4: 33.77, 5: 28.4, 6: 45.11, 7: 18.4, 8: 161.1, 9: 177.46, 10: 192.08, 11: 78.24, 12: 74.48, 13: 119.89, 14: 62.43, 15: 138.73, 16: 101.27, 17: 195.96, 18: 86.62, 19: 46.6, 20: 199.54, 21: 12.28, 22: 61.4, 23: 16.74, 24: 204.2, 25: 4.55, 26: 247.59, 27: 275.27}\n",
      "\n",
      "Log-dampened class weights:\n",
      "{0: 1.0, 1: 3.35, 2: 2.04, 3: 3.24, 4: 2.83, 5: 2.65, 6: 3.12, 7: 2.22, 8: 4.39, 9: 4.49, 10: 4.56, 11: 3.67, 12: 3.62, 13: 4.09, 14: 3.44, 15: 4.24, 16: 3.92, 17: 4.58, 18: 3.77, 19: 3.15, 20: 4.6, 21: 1.81, 22: 3.42, 23: 2.12, 24: 4.63, 25: 1.0, 26: 4.82, 27: 4.92}\n"
     ]
    }
   ],
   "source": [
    "# https://www.kaggle.com/c/human-protein-atlas-image-classification/discussion/74065\n",
    "# mu in \"create_class_weight\" is a dampening parameter that could be tuned\n",
    "import math\n",
    "import numpy as np\n",
    "\n",
    "def create_class_weight(labels_dict, mu=0.5):\n",
    "    total = np.sum(list(labels_dict.values()))\n",
    "    keys = labels_dict.keys()\n",
    "    class_weight = dict()\n",
    "    class_weight_log = dict()\n",
    "\n",
    "    for key in keys:                \n",
    "        score = total / float(labels_dict[key])\n",
    "        score_log = math.log(mu * total / float(labels_dict[key]))\n",
    "        class_weight[key] = round(score, 2) if score > 1.0 else round(1.0, 2)\n",
    "        class_weight_log[key] = round(score_log, 2) if score_log > 1.0 else round(1.0, 2)\n",
    "\n",
    "    return class_weight, class_weight_log\n",
    "\n",
    "class_weights = create_class_weight(labels_dict)\n",
    "print('\\nTrue class weights:')\n",
    "print(class_weights[0])\n",
    "print('\\nLog-dampened class weights:')\n",
    "print(class_weights[1])"
   ]
  },
  {
   "cell_type": "code",
   "execution_count": 12,
   "metadata": {},
   "outputs": [],
   "source": [
    "# https://www.kaggle.com/c/human-protein-atlas-image-classification/discussion/73938\n",
    "def get_sample_weights(labels, weight_per_class):\n",
    "    sample_weights = [np.max(np.array(weight_per_class)[np.nonzero(lab)[0]]) for lab in labels]\n",
    "    return sample_weights\n",
    "\n",
    "trn_sample_weights = get_sample_weights(ohlabels[trn_idxs], np.array([class_weights[1][x] for x in range(len(class_weights[0]))]))\n",
    "val_sample_weights = get_sample_weights(ohlabels[val_idxs], np.array([class_weights[1][x] for x in range(len(class_weights[0]))]))"
   ]
  },
  {
   "cell_type": "code",
   "execution_count": 13,
   "metadata": {},
   "outputs": [],
   "source": [
    "# https://discuss.pytorch.org/t/balanced-sampling-between-classes-with-torchvision-dataloader/2703/17\n",
    "trn_weighted_sampler = torch.utils.data.sampler.WeightedRandomSampler(weights=trn_sample_weights, num_samples=len(trn_idxs), replacement=False)\n",
    "val_weighted_sampler = torch.utils.data.sampler.WeightedRandomSampler(weights=val_sample_weights, num_samples=len(val_idxs), replacement=False)"
   ]
  },
  {
   "cell_type": "code",
   "execution_count": 14,
   "metadata": {},
   "outputs": [],
   "source": [
    "f_model = resnext50"
   ]
  },
  {
   "cell_type": "code",
   "execution_count": 15,
   "metadata": {},
   "outputs": [],
   "source": [
    "class ConvnetBuilder_custom():\n",
    "    def __init__(self, f, c, is_multi, is_reg, ps=None, xtra_fc=None, xtra_cut=0, \n",
    "                 custom_head=None, pretrained=True):\n",
    "        self.f,self.c,self.is_multi,self.is_reg,self.xtra_cut = f,c,is_multi,is_reg,xtra_cut\n",
    "        if xtra_fc is None: xtra_fc = [512]\n",
    "        if ps is None: ps = [0.25]*len(xtra_fc) + [0.5]\n",
    "        self.ps,self.xtra_fc = ps,xtra_fc\n",
    "\n",
    "        if f in model_meta: cut,self.lr_cut = model_meta[f]\n",
    "        else: cut,self.lr_cut = 0,0\n",
    "        cut-=xtra_cut\n",
    "        layers = cut_model(f(pretrained), cut)\n",
    "        \n",
    "        #replace first convolutional layer by 4->64 while keeping corresponding weights\n",
    "        #and initializing new weights with 3rd weights\n",
    "        w = layers[0].weight.data\n",
    "        layers[0] = nn.Conv2d(4,64,kernel_size=(7,7),stride=(2,2),padding=(3, 3), bias=False)\n",
    "        #layers[0].weight = torch.nn.Parameter(torch.cat((w,w[2]),dim=1)) # my attempt...\n",
    "        layers[0].weight = torch.nn.Parameter(torch.cat((w,w[:,:1,:,:]),dim=1)) # copied from kaggle post        \n",
    "        #layers[0].weight = torch.nn.Parameter(torch.cat((w,torch.zeros(64,1,7,7)),dim=1))  \n",
    "        \n",
    "        self.nf = model_features[f] if f in model_features else (num_features(layers)*2)\n",
    "        if not custom_head: layers += [AdaptiveConcatPool2d(), Flatten()]\n",
    "        self.top_model = nn.Sequential(*layers)\n",
    "\n",
    "        n_fc = len(self.xtra_fc)+1\n",
    "        if not isinstance(self.ps, list): self.ps = [self.ps]*n_fc\n",
    "\n",
    "        if custom_head: fc_layers = [custom_head]\n",
    "        else: fc_layers = self.get_fc_layers()\n",
    "        self.n_fc = len(fc_layers)\n",
    "        self.fc_model = to_gpu(nn.Sequential(*fc_layers))\n",
    "        if not custom_head: apply_init(self.fc_model, kaiming_normal)\n",
    "        self.model = to_gpu(nn.Sequential(*(layers+fc_layers)))\n",
    "\n",
    "    @property\n",
    "    def name(self): return f'{self.f.__name__}_{self.xtra_cut}'\n",
    "\n",
    "    def create_fc_layer(self, ni, nf, p, actn=None):\n",
    "        res=[nn.BatchNorm1d(num_features=ni)]\n",
    "        if p: res.append(nn.Dropout(p=p))\n",
    "        res.append(nn.Linear(in_features=ni, out_features=nf))\n",
    "        if actn: res.append(actn)\n",
    "        return res\n",
    "\n",
    "    def get_fc_layers(self):\n",
    "        res=[]\n",
    "        ni=self.nf\n",
    "        for i,nf in enumerate(self.xtra_fc):\n",
    "            res += self.create_fc_layer(ni, nf, p=self.ps[i], actn=nn.ReLU())\n",
    "            ni=nf\n",
    "        final_actn = nn.Sigmoid() if self.is_multi else nn.LogSoftmax()\n",
    "        if self.is_reg: final_actn = None\n",
    "        res += self.create_fc_layer(ni, self.c, p=self.ps[-1], actn=final_actn)\n",
    "        return res\n",
    "\n",
    "    def get_layer_groups(self, do_fc=False):\n",
    "        if do_fc:\n",
    "            return [self.fc_model]\n",
    "        idxs = [self.lr_cut]\n",
    "        c = children(self.top_model)\n",
    "        if len(c)==3: c = children(c[0])+c[1:]\n",
    "        lgs = list(split_by_idxs(c,idxs))\n",
    "        return lgs+[self.fc_model]\n",
    "    \n",
    "class ConvLearner(Learner):\n",
    "    def __init__(self, data, models, precompute=False, **kwargs):\n",
    "        self.precompute = False\n",
    "        super().__init__(data, models, **kwargs)\n",
    "        if hasattr(data, 'is_multi') and not data.is_reg and self.metrics is None:\n",
    "            self.metrics = [accuracy_thresh(0.5)] if self.data.is_multi else [accuracy]\n",
    "        if precompute: self.save_fc1()\n",
    "        self.freeze()\n",
    "        self.precompute = precompute\n",
    "\n",
    "    def _get_crit(self, data):\n",
    "        if not hasattr(data, 'is_multi'): return super()._get_crit(data)\n",
    "\n",
    "        return F.l1_loss if data.is_reg else F.binary_cross_entropy if data.is_multi else F.nll_loss    \n",
    "    \n",
    "    @classmethod\n",
    "    def pretrained(cls, f, data, ps=None, xtra_fc=None, xtra_cut=0, custom_head=None, precompute=False,\n",
    "                   pretrained=True, **kwargs):\n",
    "        models = ConvnetBuilder_custom(f, data.c, data.is_multi, data.is_reg,\n",
    "            ps=ps, xtra_fc=xtra_fc, xtra_cut=xtra_cut, custom_head=custom_head, pretrained=pretrained)\n",
    "        return cls(data, models, precompute, **kwargs)\n",
    "\n",
    "    @classmethod\n",
    "    def lsuv_learner(cls, f, data, ps=None, xtra_fc=None, xtra_cut=0, custom_head=None, precompute=False,\n",
    "                  needed_std=1.0, std_tol=0.1, max_attempts=10, do_orthonorm=False, **kwargs):\n",
    "        models = ConvnetBuilder(f, data.c, data.is_multi, data.is_reg,\n",
    "            ps=ps, xtra_fc=xtra_fc, xtra_cut=xtra_cut, custom_head=custom_head, pretrained=False)\n",
    "        convlearn=cls(data, models, precompute, **kwargs)\n",
    "        convlearn.lsuv_init()\n",
    "        return convlearn\n",
    "    \n",
    "    @property\n",
    "    def model(self): return self.models.fc_model if self.precompute else self.models.model\n",
    "    \n",
    "    def half(self):\n",
    "        if self.fp16: return\n",
    "        self.fp16 = True\n",
    "        if type(self.model) != FP16: self.models.model = FP16(self.model)\n",
    "        if not isinstance(self.models.fc_model, FP16): self.models.fc_model = FP16(self.models.fc_model)\n",
    "    def float(self):\n",
    "        if not self.fp16: return\n",
    "        self.fp16 = False\n",
    "        if type(self.models.model) == FP16: self.models.model = self.model.module.float()\n",
    "        if type(self.models.fc_model) == FP16: self.models.fc_model = self.models.fc_model.module.float()\n",
    "\n",
    "    @property\n",
    "    def data(self): return self.fc_data if self.precompute else self.data_\n",
    "\n",
    "    def create_empty_bcolz(self, n, name):\n",
    "        return bcolz.carray(np.zeros((0,n), np.float32), chunklen=1, mode='w', rootdir=name)\n",
    "\n",
    "    def set_data(self, data, precompute=False):\n",
    "        super().set_data(data)\n",
    "        if precompute:\n",
    "            self.unfreeze()\n",
    "            self.save_fc1()\n",
    "            self.freeze()\n",
    "            self.precompute = True\n",
    "        else:\n",
    "            self.freeze()\n",
    "\n",
    "    def get_layer_groups(self):\n",
    "        return self.models.get_layer_groups(self.precompute)\n",
    "\n",
    "    def summary(self):\n",
    "        precompute = self.precompute\n",
    "        self.precompute = False\n",
    "        res = super().summary()\n",
    "        self.precompute = precompute\n",
    "        return res\n",
    "\n",
    "    def get_activations(self, force=False):\n",
    "        tmpl = f'_{self.models.name}_{self.data.sz}.bc'\n",
    "        # TODO: Somehow check that directory names haven't changed (e.g. added test set)\n",
    "        names = [os.path.join(self.tmp_path, p+tmpl) for p in ('x_act', 'x_act_val', 'x_act_test')]\n",
    "        if os.path.exists(names[0]) and not force:\n",
    "            self.activations = [bcolz.open(p) for p in names]\n",
    "        else:\n",
    "            self.activations = [self.create_empty_bcolz(self.models.nf,n) for n in names]\n",
    "\n",
    "    def save_fc1(self):\n",
    "        self.get_activations()\n",
    "        act, val_act, test_act = self.activations\n",
    "        m=self.models.top_model\n",
    "        if len(self.activations[0])!=len(self.data.trn_ds):\n",
    "            predict_to_bcolz(m, self.data.fix_dl, act)\n",
    "        if len(self.activations[1])!=len(self.data.val_ds):\n",
    "            predict_to_bcolz(m, self.data.val_dl, val_act)\n",
    "        if self.data.test_dl and (len(self.activations[2])!=len(self.data.test_ds)):\n",
    "            if self.data.test_dl: predict_to_bcolz(m, self.data.test_dl, test_act)\n",
    "\n",
    "        self.fc_data = ImageClassifierData.from_arrays(self.data.path,\n",
    "                (act, self.data.trn_y), (val_act, self.data.val_y), self.data.bs, classes=self.data.classes,\n",
    "                test = test_act if self.data.test_dl else None, num_workers=8)\n",
    "\n",
    "    def freeze(self):\n",
    "        self.freeze_to(-1)\n",
    "\n",
    "    def unfreeze(self):\n",
    "        self.freeze_to(0)\n",
    "        self.precompute = False\n",
    "\n",
    "    def predict_array(self, arr):\n",
    "        precompute = self.precompute\n",
    "        self.precompute = False\n",
    "        pred = super().predict_array(arr)\n",
    "        self.precompute = precompute\n",
    "        return pred"
   ]
  },
  {
   "cell_type": "code",
   "execution_count": 16,
   "metadata": {},
   "outputs": [],
   "source": [
    "import os\n",
    "def open_multichannel_image(path, id, colours):    \n",
    "    flags = cv2.IMREAD_GRAYSCALE    \n",
    "    img = [cv2.imread(os.path.join(path, id[:-4] + '_' + colour + '.png'), flags) for colour in colours]    \n",
    "    sz = 512    \n",
    "    try:\n",
    "        img = [im.astype(np.float32)/255 for im in img]\n",
    "    except:\n",
    "        print('hi1', path+id)\n",
    "    try:\n",
    "        stacked = np.stack(img, axis=-1)\n",
    "    except:\n",
    "        print('hi2', path+id)\n",
    "        print(img)\n",
    "    return stacked\n",
    "\n",
    "channel_names = ['red', 'green', 'blue', 'yellow']\n",
    "\n",
    "def get_x_multichannel(self, i):\n",
    "    #print(self.fnames)\n",
    "    #a\n",
    "    img = open_multichannel_image(self.path, self.fnames[i], channel_names)\n",
    "    if self.sz == 512: return img # change to match your image dimensions\n",
    "    else: return cv2.resize(img, (self.sz, self.sz), cv2.INTER_AREA) \n",
    "\n",
    "# monkey patching, must be done before new class is defined and had to be this specific class\n",
    "FilesNhotArrayDataset.get_x = get_x_multichannel\n",
    "    \n",
    "class MultichannelImageClassifierData(ImageData):\n",
    "    def set_weighted_dls(self):                \n",
    "        self.trn_dl = DataLoader(self.trn_ds, batch_size=self.bs, shuffle=False, num_workers=self.num_workers, pin_memory=False, sampler=trn_weighted_sampler)\n",
    "        self.val_dl = DataLoader(self.val_ds, batch_size=self.bs, shuffle=False, num_workers=self.num_workers, pin_memory=False, sampler=val_weighted_sampler)\n",
    "    \n",
    "    @classmethod\n",
    "    def from_csv(cls, path, folder, csv_fname, channel_names=channel_names, bs=64, tfms=(None,None),\n",
    "               val_idxs=None, suffix='', channel_sep='_', test_name=None, continuous=False, skip_header=True, num_workers=8, cat_separator=' '):\n",
    "        assert not (tfms[0] is None or tfms[1] is None), \"please provide transformations for your train and validation sets\"\n",
    "        assert not (os.path.isabs(folder)), \"folder needs to be a relative path\"\n",
    "        fnames,y,classes = csv_source(folder, csv_fname, skip_header, suffix, continuous=continuous) #, cat_separator=cat_separator)\n",
    "                \n",
    "        labels_num = [np.where(b==1) for b in y]\n",
    "        labels_num = [l[0].tolist() for l in labels_num]\n",
    "        labels_num_flat = [item for sublist in labels_num for item in sublist]\n",
    "        labels_dict = dict((x,labels_num_flat.count(x)) for x in range(28))        \n",
    "        \n",
    "        # from_names_and_array\n",
    "        val_idxs = get_cv_idxs(len(fnames)) if val_idxs is None else val_idxs\n",
    "        ((val_fnames,trn_fnames),(val_y,trn_y)) = split_by_idx(val_idxs, np.array(fnames), y)        \n",
    "            \n",
    "        test_ids = pd.read_csv('storage/sample_submission.csv', index_col=0, header=0)        \n",
    "        \n",
    "        test_fnames = []\n",
    "        for i in range(len(test_ids)):\n",
    "            test_fnames.append(test_name + '/' + test_ids.index[i] + suffix)                                            \n",
    "            \n",
    "        f = FilesNhotArrayDataset # multiple classes per label            \n",
    "        datasets = cls.get_ds(f, (trn_fnames,trn_y), (val_fnames,val_y), tfms,\n",
    "                               path=path, test=test_fnames)\n",
    "        return cls(path, datasets, bs, num_workers, classes=classes)\n",
    "\n",
    "def get_data(sz, bs):\n",
    "    aug_tfms = [RandomRotate(30, tfm_y=TfmType.NO),\n",
    "                RandomDihedral(tfm_y=TfmType.NO),\n",
    "                RandomLighting(0.05, 0.05, tfm_y=TfmType.NO)]\n",
    "    #mean and std in of each channel in the train set\n",
    "    stats = A([0.06734, 0.05087, 0.03266, 0.09257],[0.11997, 0.10335, 0.10124, 0.1574])\n",
    "    #stats = A([0.08069, 0.05258, 0.05487] #, 0.08282]\n",
    "    #          , [0.13704, 0.10145, 0.15313]) #, 0.13814])\n",
    "    tfms = tfms_from_stats(stats, sz, crop_type=CropType.NO, tfm_y=TfmType.NO, \n",
    "                aug_tfms=aug_tfms)\n",
    "    md = MultichannelImageClassifierData.from_csv(PATH, 'train', label_csv, bs=bs, tfms=tfms,\n",
    "                    suffix='.png', val_idxs=val_idxs, test_name='test')  \n",
    "    md.set_weighted_dls()\n",
    "    return md"
   ]
  },
  {
   "cell_type": "code",
   "execution_count": 17,
   "metadata": {},
   "outputs": [],
   "source": [
    "sz=64\n",
    "bs=64"
   ]
  },
  {
   "cell_type": "code",
   "execution_count": 18,
   "metadata": {
    "scrolled": true
   },
   "outputs": [],
   "source": [
    "data = get_data(sz, bs)"
   ]
  },
  {
   "cell_type": "code",
   "execution_count": 19,
   "metadata": {},
   "outputs": [],
   "source": [
    "from sklearn.metrics import fbeta_score\n",
    "def f1_macro(preds, targs, start=0.0, end=0.99, step=0.01):\n",
    "    with warnings.catch_warnings():\n",
    "        warnings.simplefilter(\"ignore\")\n",
    "        return max([fbeta_score(targs, (preds>th), 1, average='macro')\n",
    "                    for th in np.arange(start,end,step)])\n",
    "learn = ConvLearner.pretrained(f_model, data, metrics=[f1_macro]) #, crit=FocalLoss())\n",
    "learn.opt_fn = optim.Adam"
   ]
  },
  {
   "cell_type": "code",
   "execution_count": null,
   "metadata": {},
   "outputs": [],
   "source": []
  },
  {
   "cell_type": "code",
   "execution_count": 20,
   "metadata": {},
   "outputs": [],
   "source": [
    "from fastai.plots import *"
   ]
  },
  {
   "cell_type": "code",
   "execution_count": 2,
   "metadata": {},
   "outputs": [
    {
     "ename": "NameError",
     "evalue": "name 'data' is not defined",
     "output_type": "error",
     "traceback": [
      "\u001b[0;31m---------------------------------------------------------------------------\u001b[0m",
      "\u001b[0;31mNameError\u001b[0m                                 Traceback (most recent call last)",
      "\u001b[0;32m<ipython-input-2-7e132999e633>\u001b[0m in \u001b[0;36m<module>\u001b[0;34m()\u001b[0m\n\u001b[0;32m----> 1\u001b[0;31m \u001b[0mx\u001b[0m\u001b[0;34m,\u001b[0m\u001b[0m_\u001b[0m \u001b[0;34m=\u001b[0m \u001b[0mnext\u001b[0m\u001b[0;34m(\u001b[0m\u001b[0miter\u001b[0m\u001b[0;34m(\u001b[0m\u001b[0mdata\u001b[0m\u001b[0;34m.\u001b[0m\u001b[0maug_dl\u001b[0m\u001b[0;34m)\u001b[0m\u001b[0;34m)\u001b[0m\u001b[0;34m\u001b[0m\u001b[0m\n\u001b[0m",
      "\u001b[0;31mNameError\u001b[0m: name 'data' is not defined"
     ]
    }
   ],
   "source": [
    "x,_ = next(iter(data.aug_dl))"
   ]
  },
  {
   "cell_type": "code",
   "execution_count": 1,
   "metadata": {},
   "outputs": [
    {
     "ename": "NameError",
     "evalue": "name 'x' is not defined",
     "output_type": "error",
     "traceback": [
      "\u001b[0;31m---------------------------------------------------------------------------\u001b[0m",
      "\u001b[0;31mNameError\u001b[0m                                 Traceback (most recent call last)",
      "\u001b[0;32m<ipython-input-1-2ec2e7f35d68>\u001b[0m in \u001b[0;36m<module>\u001b[0;34m()\u001b[0m\n\u001b[0;32m----> 1\u001b[0;31m \u001b[0mx\u001b[0m\u001b[0;34m[\u001b[0m\u001b[0;36m0\u001b[0m\u001b[0;34m]\u001b[0m\u001b[0;34m[\u001b[0m\u001b[0;36m0\u001b[0m\u001b[0;34m]\u001b[0m\u001b[0;34m\u001b[0m\u001b[0m\n\u001b[0m",
      "\u001b[0;31mNameError\u001b[0m: name 'x' is not defined"
     ]
    }
   ],
   "source": [
    "x[0][0]"
   ]
  },
  {
   "cell_type": "code",
   "execution_count": 44,
   "metadata": {},
   "outputs": [
    {
     "data": {
      "image/png": "[encoded data removed]",
      "text/plain": [
       "<Figure size 432x288 with 1 Axes>"
      ]
     },
     "metadata": {},
     "output_type": "display_data"
    }
   ],
   "source": [
    "plt.imshow(data.val_ds.denorm(to_np(x))[0]*1.0);"
   ]
  },
  {
   "cell_type": "code",
   "execution_count": 50,
   "metadata": {},
   "outputs": [
    {
     "data": {
      "image/png": "[encoded data removed]",
      "text/plain": [
       "<Figure size 432x288 with 1 Axes>"
      ]
     },
     "metadata": {},
     "output_type": "display_data"
    }
   ],
   "source": [
    "plt.imshow(to_np(x)[0][3]);"
   ]
  },
  {
   "cell_type": "code",
   "execution_count": 11,
   "metadata": {
    "scrolled": false
   },
   "outputs": [
    {
     "data": {
      "application/vnd.jupyter.widget-view+json": {
       "model_id": "a7571f9a72114ec2851894949c8e7755",
       "version_major": 2,
       "version_minor": 0
      },
      "text/plain": [
       "HBox(children=(IntProgress(value=0, description='Epoch', max=1), HTML(value='')))"
      ]
     },
     "metadata": {},
     "output_type": "display_data"
    },
    {
     "name": "stdout",
     "output_type": "stream",
     "text": [
      " 73%|███████▎  | 1013/1381 [09:43<03:31,  1.74it/s, loss=0.682]"
     ]
    },
    {
     "data": {
      "image/png": "[encoded data removed]",
      "text/plain": [
       "<Figure size 432x288 with 1 Axes>"
      ]
     },
     "metadata": {},
     "output_type": "display_data"
    }
   ],
   "source": [
    "lrf=learn.lr_find()\n",
    "learn.sched.plot()"
   ]
  },
  {
   "cell_type": "code",
   "execution_count": 11,
   "metadata": {},
   "outputs": [],
   "source": [
    "lr = 0.00075\n",
    "lrs = np.array([lr/9,lr/3,lr])\n",
    "learn.freeze()"
   ]
  },
  {
   "cell_type": "code",
   "execution_count": 36,
   "metadata": {},
   "outputs": [
    {
     "data": {
      "application/vnd.jupyter.widget-view+json": {
       "model_id": "0202aeaed7fb444d82640fe4ef7aadf8",
       "version_major": 2,
       "version_minor": 0
      },
      "text/plain": [
       "HBox(children=(IntProgress(value=0, description='Epoch', max=7), HTML(value='')))"
      ]
     },
     "metadata": {},
     "output_type": "display_data"
    },
    {
     "name": "stdout",
     "output_type": "stream",
     "text": [
      "epoch      trn_loss   val_loss   f1         \n",
      "    0      0.160045   0.154294   0.11945   \n",
      "    1      0.15688    0.152578   0.127949  \n",
      "    2      0.151941   0.151487   0.127684  \n",
      "    3      0.155007   0.151704   0.126841  \n",
      "    4      0.151839   0.150625   0.129457  \n",
      "    5      0.151469   0.149922   0.132374  \n",
      "    6      0.152236   0.149518   0.133627  \n"
     ]
    },
    {
     "data": {
      "text/plain": [
       "[array([0.14952]), 0.13362734210390392]"
      ]
     },
     "execution_count": 36,
     "metadata": {},
     "output_type": "execute_result"
    }
   ],
   "source": [
    "learn.fit(lr, 3, cycle_len=1, cycle_mult=2)"
   ]
  },
  {
   "cell_type": "code",
   "execution_count": 37,
   "metadata": {},
   "outputs": [
    {
     "data": {
      "application/vnd.jupyter.widget-view+json": {
       "model_id": "873e9c3990f14847b510f0c96352fbea",
       "version_major": 2,
       "version_minor": 0
      },
      "text/plain": [
       "HBox(children=(IntProgress(value=0, description='Epoch', max=7), HTML(value='')))"
      ]
     },
     "metadata": {},
     "output_type": "display_data"
    },
    {
     "name": "stdout",
     "output_type": "stream",
     "text": [
      "epoch      trn_loss   val_loss   f1         \n",
      "    0      0.141441   0.13668    0.166469  \n",
      "    1      0.134743   0.131241   0.188063  \n",
      "    2      0.128616   0.125683   0.204794  \n",
      "    3      0.131361   0.126395   0.205786  \n",
      "    4      0.12445    0.122756   0.224524  \n",
      "    5      0.118762   0.117098   0.239855  \n",
      "    6      0.116871   0.116195   0.245511  \n"
     ]
    }
   ],
   "source": [
    "learn.unfreeze()\n",
    "learn.fit(lrs, 3, cycle_len=1, cycle_mult=2)\n",
    "learn.save(f'rgb_external_resnext_{sz}')"
   ]
  },
  {
   "cell_type": "code",
   "execution_count": 38,
   "metadata": {},
   "outputs": [],
   "source": [
    "sz=128"
   ]
  },
  {
   "cell_type": "code",
   "execution_count": 39,
   "metadata": {},
   "outputs": [
    {
     "data": {
      "application/vnd.jupyter.widget-view+json": {
       "model_id": "4949d5fb420541059267b7b8c18ad79b",
       "version_major": 2,
       "version_minor": 0
      },
      "text/plain": [
       "HBox(children=(IntProgress(value=0, description='Epoch', max=7), HTML(value='')))"
      ]
     },
     "metadata": {},
     "output_type": "display_data"
    },
    {
     "name": "stdout",
     "output_type": "stream",
     "text": [
      "epoch      trn_loss   val_loss   f1         \n",
      "    0      0.119      0.118785   0.248368  \n",
      " 89%|████████▊ | 1376/1554 [10:50<01:24,  2.11it/s, loss=0.12]    1      0.120445   0.116961   0.251424  \n",
      "    2      0.120942   0.116259   0.253749  \n",
      "    3      0.117993   0.115919   0.256073  \n",
      "    4      0.118173   0.115215   0.258542  \n",
      "    5      0.114623   0.114485   0.259676  \n",
      "    6      0.117873   0.114377   0.259799  \n"
     ]
    },
    {
     "data": {
      "text/plain": [
       "[array([0.11438]), 0.25979935894002215]"
      ]
     },
     "execution_count": 39,
     "metadata": {},
     "output_type": "execute_result"
    }
   ],
   "source": [
    "data = get_data(sz, bs)\n",
    "learn.set_data(data)\n",
    "learn.freeze()\n",
    "learn.fit(lr, 3, cycle_len=1, cycle_mult=2)"
   ]
  },
  {
   "cell_type": "code",
   "execution_count": 40,
   "metadata": {
    "scrolled": true
   },
   "outputs": [
    {
     "data": {
      "application/vnd.jupyter.widget-view+json": {
       "model_id": "f81d4e4c42944e2fb73dd0bb4b7ec83b",
       "version_major": 2,
       "version_minor": 0
      },
      "text/plain": [
       "HBox(children=(IntProgress(value=0, description='Epoch', max=7), HTML(value='')))"
      ]
     },
     "metadata": {},
     "output_type": "display_data"
    },
    {
     "name": "stdout",
     "output_type": "stream",
     "text": [
      "epoch      trn_loss   val_loss   f1         \n",
      "    0      0.107342   0.10237    0.301889  \n",
      "    1      0.106629   0.100572   0.309531  \n",
      "    2      0.098127   0.095996   0.323228  \n",
      "    3      0.10349    0.099576   0.316529  \n",
      "    4      0.098081   0.094812   0.3297    \n",
      "    5      0.08885    0.09034    0.345673  \n",
      "    6      0.084631   0.089822   0.346677  \n"
     ]
    }
   ],
   "source": [
    "learn.unfreeze()\n",
    "learn.fit(lrs, 3, cycle_len=1, cycle_mult=2)\n",
    "learn.save(f'rgb_external_resnext_{sz}')"
   ]
  },
  {
   "cell_type": "code",
   "execution_count": 12,
   "metadata": {},
   "outputs": [],
   "source": [
    "sz=256\n",
    "#bs=32"
   ]
  },
  {
   "cell_type": "code",
   "execution_count": 15,
   "metadata": {
    "scrolled": true
   },
   "outputs": [
    {
     "data": {
      "application/vnd.jupyter.widget-view+json": {
       "model_id": "780ad7119eed49059696ce4627164fe8",
       "version_major": 2,
       "version_minor": 0
      },
      "text/plain": [
       "HBox(children=(IntProgress(value=0, description='Epoch', max=7), HTML(value='')))"
      ]
     },
     "metadata": {},
     "output_type": "display_data"
    },
    {
     "name": "stdout",
     "output_type": "stream",
     "text": [
      "epoch      trn_loss   val_loss   f1         \n",
      "    0      0.095314   0.095805   0.331665  \n",
      "    1      0.09361    0.093696   0.337331  \n",
      "    2      0.093314   0.093251   0.341313  \n",
      "    3      0.094038   0.092698   0.342178  \n",
      "    4      0.091852   0.091778   0.343671  \n",
      "    5      0.091853   0.091355   0.346585  \n",
      "    6      0.090971   0.091223   0.34767   \n",
      "\n"
     ]
    }
   ],
   "source": [
    "data = get_data(sz, bs)\n",
    "learn.set_data(data)\n",
    "learn.freeze()\n",
    "learn.fit(lr, 3, cycle_len=1, cycle_mult=2)\n",
    "learn.save(f'rgb_external_resnext_{sz}_frozen')"
   ]
  },
  {
   "cell_type": "code",
   "execution_count": 16,
   "metadata": {},
   "outputs": [
    {
     "data": {
      "application/vnd.jupyter.widget-view+json": {
       "model_id": "03ca97409e594062bdd053fc13eb869f",
       "version_major": 2,
       "version_minor": 0
      },
      "text/plain": [
       "HBox(children=(IntProgress(value=0, description='Epoch', max=7), HTML(value='')))"
      ]
     },
     "metadata": {},
     "output_type": "display_data"
    },
    {
     "name": "stdout",
     "output_type": "stream",
     "text": [
      "epoch      trn_loss   val_loss   f1         \n",
      "    0      0.081229   0.080454   0.379747  \n",
      "    1      0.082863   0.081518   0.378428  \n",
      "    2      0.075976   0.076845   0.396474  \n",
      "    3      0.082034   0.082392   0.382161  \n",
      "    4      0.073677   0.077188   0.399633  \n",
      "    5      0.066368   0.074285   0.408664  \n",
      "    6      0.062078   0.073638   0.411818  \n",
      "\n"
     ]
    }
   ],
   "source": [
    "learn.unfreeze()\n",
    "learn.fit(lrs, 3, cycle_len=1, cycle_mult=2)\n",
    "learn.save(f'rgb_external_resnext_{sz}')"
   ]
  },
  {
   "cell_type": "code",
   "execution_count": 21,
   "metadata": {},
   "outputs": [],
   "source": [
    "sz=512\n",
    "#bs=36"
   ]
  },
  {
   "cell_type": "code",
   "execution_count": 12,
   "metadata": {},
   "outputs": [],
   "source": [
    "lr = 0.00075\n",
    "lrs = np.array([lr/6,lr/3,lr])"
   ]
  },
  {
   "cell_type": "code",
   "execution_count": 16,
   "metadata": {},
   "outputs": [
    {
     "data": {
      "application/vnd.jupyter.widget-view+json": {
       "model_id": "a3b7c353a27945df8f0524bbdfd36d10",
       "version_major": 2,
       "version_minor": 0
      },
      "text/plain": [
       "HBox(children=(IntProgress(value=0, description='Epoch', max=3), HTML(value='')))"
      ]
     },
     "metadata": {},
     "output_type": "display_data"
    },
    {
     "name": "stdout",
     "output_type": "stream",
     "text": [
      "epoch      trn_loss   val_loss   f1         \n",
      "    0      0.094912   0.095233   0.338472  \n",
      "    1      0.091519   0.091541   0.349707  \n",
      "    2      0.087015   0.090838   0.351141  \n"
     ]
    }
   ],
   "source": [
    "data = get_data(sz, bs)\n",
    "learn.set_data(data)\n",
    "learn.freeze()\n",
    "learn.fit(lr, 2, cycle_len=1, cycle_mult=2)\n",
    "learn.save(f'rgb_external_resnext_{sz}_frozen')"
   ]
  },
  {
   "cell_type": "code",
   "execution_count": 17,
   "metadata": {},
   "outputs": [
    {
     "data": {
      "application/vnd.jupyter.widget-view+json": {
       "model_id": "854648103cdc47bd8003aefba67ece93",
       "version_major": 2,
       "version_minor": 0
      },
      "text/plain": [
       "HBox(children=(IntProgress(value=0, description='Epoch', max=3), HTML(value='')))"
      ]
     },
     "metadata": {},
     "output_type": "display_data"
    },
    {
     "name": "stdout",
     "output_type": "stream",
     "text": [
      "epoch      trn_loss   val_loss   f1         \n",
      "    0      0.092984   0.08981    0.356506  \n",
      "    1      0.088406   0.088677   0.359954  \n",
      "    2      0.087711   0.088458   0.359628  \n"
     ]
    }
   ],
   "source": [
    "learn.fit(lr, 1, cycle_len=3, cycle_mult=1)\n",
    "learn.save(f'rgb_external_resnext_{sz}_frozen_1')"
   ]
  },
  {
   "cell_type": "code",
   "execution_count": 14,
   "metadata": {},
   "outputs": [],
   "source": [
    "learn.load(f'rgb_external_resnext_{sz}_frozen_1')"
   ]
  },
  {
   "cell_type": "code",
   "execution_count": 22,
   "metadata": {},
   "outputs": [
    {
     "name": "stdout",
     "output_type": "stream",
     "text": [
      "{0: 41763, 1: 3073, 2: 910, 3: 2234, 4: 2347, 5: 1458, 6: 2800, 7: 1260, 8: 1726, 9: 892, 10: 2018, 11: 3751, 12: 11378, 13: 876, 14: 14235, 15: 2847, 16: 10441, 17: 856, 18: 38386, 19: 706, 20: 635, 21: 3426, 22: 5176, 23: 6155, 24: 3875, 25: 9502, 26: 1085, 27: 985}\n"
     ]
    }
   ],
   "source": [
    "bs = 16\n",
    "data = get_data(sz, bs)\n",
    "learn.set_data(data)\n",
    "learn.unfreeze()"
   ]
  },
  {
   "cell_type": "code",
   "execution_count": 15,
   "metadata": {
    "scrolled": false
   },
   "outputs": [
    {
     "data": {
      "application/vnd.jupyter.widget-view+json": {
       "model_id": "73dd7625d38945e2932a27a7ce7172f4",
       "version_major": 2,
       "version_minor": 0
      },
      "text/plain": [
       "HBox(children=(IntProgress(value=0, description='Epoch', max=1), HTML(value='')))"
      ]
     },
     "metadata": {},
     "output_type": "display_data"
    },
    {
     "name": "stdout",
     "output_type": "stream",
     "text": [
      "epoch      trn_loss   val_loss   f1         \n",
      "    0      0.082255   0.075894   0.252449  \n",
      "\n"
     ]
    }
   ],
   "source": [
    "learn.fit(lrs, 1, cycle_len=1, cycle_mult=1)\n",
    "learn.save(f'rgb_external_resnext_{sz}_1') # "
   ]
  },
  {
   "cell_type": "code",
   "execution_count": 16,
   "metadata": {},
   "outputs": [
    {
     "data": {
      "application/vnd.jupyter.widget-view+json": {
       "model_id": "065e29a29e904516a5f5a6c5ee389b5e",
       "version_major": 2,
       "version_minor": 0
      },
      "text/plain": [
       "HBox(children=(IntProgress(value=0, description='Epoch', max=2), HTML(value='')))"
      ]
     },
     "metadata": {},
     "output_type": "display_data"
    },
    {
     "name": "stdout",
     "output_type": "stream",
     "text": [
      "epoch      trn_loss   val_loss   f1         \n",
      "    0      0.088278   0.081018   0.247575  \n",
      "    1      0.075031   0.073059   0.257185  \n",
      "\n"
     ]
    }
   ],
   "source": [
    "learn.fit(lrs, 1, cycle_len=2, cycle_mult=1)\n",
    "learn.save(f'rgb_external_resnext_{sz}_2') # "
   ]
  },
  {
   "cell_type": "code",
   "execution_count": 17,
   "metadata": {},
   "outputs": [
    {
     "data": {
      "application/vnd.jupyter.widget-view+json": {
       "model_id": "f0823eaf60884b9b9271b6105af26cf3",
       "version_major": 2,
       "version_minor": 0
      },
      "text/plain": [
       "HBox(children=(IntProgress(value=0, description='Epoch', max=2), HTML(value='')))"
      ]
     },
     "metadata": {},
     "output_type": "display_data"
    },
    {
     "name": "stdout",
     "output_type": "stream",
     "text": [
      "epoch      trn_loss   val_loss   f1         \n",
      "    0      0.071323   0.073008   0.25688   \n",
      " 28%|██▊       | 1725/6214 [41:28<1:47:56,  1.44s/it, loss=0.0744]"
     ]
    },
    {
     "ename": "KeyboardInterrupt",
     "evalue": "",
     "output_type": "error",
     "traceback": [
      "\u001b[0;31m---------------------------------------------------------------------------\u001b[0m",
      "\u001b[0;31mKeyboardInterrupt\u001b[0m                         Traceback (most recent call last)",
      "\u001b[0;32m<ipython-input-17-2b3683cf7d1e>\u001b[0m in \u001b[0;36m<module>\u001b[0;34m()\u001b[0m\n\u001b[1;32m      1\u001b[0m \u001b[0mlr\u001b[0m \u001b[0;34m=\u001b[0m \u001b[0;36m0.00001\u001b[0m\u001b[0;34m\u001b[0m\u001b[0m\n\u001b[1;32m      2\u001b[0m \u001b[0mlrs\u001b[0m \u001b[0;34m=\u001b[0m \u001b[0mnp\u001b[0m\u001b[0;34m.\u001b[0m\u001b[0marray\u001b[0m\u001b[0;34m(\u001b[0m\u001b[0;34m[\u001b[0m\u001b[0mlr\u001b[0m\u001b[0;34m/\u001b[0m\u001b[0;36m9\u001b[0m\u001b[0;34m,\u001b[0m\u001b[0mlr\u001b[0m\u001b[0;34m/\u001b[0m\u001b[0;36m3\u001b[0m\u001b[0;34m,\u001b[0m\u001b[0mlr\u001b[0m\u001b[0;34m]\u001b[0m\u001b[0;34m)\u001b[0m\u001b[0;34m\u001b[0m\u001b[0m\n\u001b[0;32m----> 3\u001b[0;31m \u001b[0mlearn\u001b[0m\u001b[0;34m.\u001b[0m\u001b[0mfit\u001b[0m\u001b[0;34m(\u001b[0m\u001b[0mlrs\u001b[0m\u001b[0;34m,\u001b[0m \u001b[0;36m1\u001b[0m\u001b[0;34m,\u001b[0m \u001b[0mcycle_len\u001b[0m\u001b[0;34m=\u001b[0m\u001b[0;36m2\u001b[0m\u001b[0;34m,\u001b[0m \u001b[0mcycle_mult\u001b[0m\u001b[0;34m=\u001b[0m\u001b[0;36m1\u001b[0m\u001b[0;34m)\u001b[0m\u001b[0;34m\u001b[0m\u001b[0m\n\u001b[0m\u001b[1;32m      4\u001b[0m \u001b[0mlearn\u001b[0m\u001b[0;34m.\u001b[0m\u001b[0msave\u001b[0m\u001b[0;34m(\u001b[0m\u001b[0;34mf'rgb_external_resnext_{sz}_3'\u001b[0m\u001b[0;34m)\u001b[0m \u001b[0;31m#\u001b[0m\u001b[0;34m\u001b[0m\u001b[0m\n",
      "\u001b[0;32m/notebooks/fastai/learner.py\u001b[0m in \u001b[0;36mfit\u001b[0;34m(self, lrs, n_cycle, wds, **kwargs)\u001b[0m\n\u001b[1;32m    285\u001b[0m         \u001b[0mself\u001b[0m\u001b[0;34m.\u001b[0m\u001b[0msched\u001b[0m \u001b[0;34m=\u001b[0m \u001b[0;32mNone\u001b[0m\u001b[0;34m\u001b[0m\u001b[0m\n\u001b[1;32m    286\u001b[0m         \u001b[0mlayer_opt\u001b[0m \u001b[0;34m=\u001b[0m \u001b[0mself\u001b[0m\u001b[0;34m.\u001b[0m\u001b[0mget_layer_opt\u001b[0m\u001b[0;34m(\u001b[0m\u001b[0mlrs\u001b[0m\u001b[0;34m,\u001b[0m \u001b[0mwds\u001b[0m\u001b[0;34m)\u001b[0m\u001b[0;34m\u001b[0m\u001b[0m\n\u001b[0;32m--> 287\u001b[0;31m         \u001b[0;32mreturn\u001b[0m \u001b[0mself\u001b[0m\u001b[0;34m.\u001b[0m\u001b[0mfit_gen\u001b[0m\u001b[0;34m(\u001b[0m\u001b[0mself\u001b[0m\u001b[0;34m.\u001b[0m\u001b[0mmodel\u001b[0m\u001b[0;34m,\u001b[0m \u001b[0mself\u001b[0m\u001b[0;34m.\u001b[0m\u001b[0mdata\u001b[0m\u001b[0;34m,\u001b[0m \u001b[0mlayer_opt\u001b[0m\u001b[0;34m,\u001b[0m \u001b[0mn_cycle\u001b[0m\u001b[0;34m,\u001b[0m \u001b[0;34m**\u001b[0m\u001b[0mkwargs\u001b[0m\u001b[0;34m)\u001b[0m\u001b[0;34m\u001b[0m\u001b[0m\n\u001b[0m\u001b[1;32m    288\u001b[0m \u001b[0;34m\u001b[0m\u001b[0m\n\u001b[1;32m    289\u001b[0m     \u001b[0;32mdef\u001b[0m \u001b[0mwarm_up\u001b[0m\u001b[0;34m(\u001b[0m\u001b[0mself\u001b[0m\u001b[0;34m,\u001b[0m \u001b[0mlr\u001b[0m\u001b[0;34m,\u001b[0m \u001b[0mwds\u001b[0m\u001b[0;34m=\u001b[0m\u001b[0;32mNone\u001b[0m\u001b[0;34m)\u001b[0m\u001b[0;34m:\u001b[0m\u001b[0;34m\u001b[0m\u001b[0m\n",
      "\u001b[0;32m/notebooks/fastai/learner.py\u001b[0m in \u001b[0;36mfit_gen\u001b[0;34m(self, model, data, layer_opt, n_cycle, cycle_len, cycle_mult, cycle_save_name, best_save_name, use_clr, use_clr_beta, metrics, callbacks, use_wd_sched, norm_wds, wds_sched_mult, use_swa, swa_start, swa_eval_freq, **kwargs)\u001b[0m\n\u001b[1;32m    232\u001b[0m             \u001b[0mmetrics\u001b[0m\u001b[0;34m=\u001b[0m\u001b[0mmetrics\u001b[0m\u001b[0;34m,\u001b[0m \u001b[0mcallbacks\u001b[0m\u001b[0;34m=\u001b[0m\u001b[0mcallbacks\u001b[0m\u001b[0;34m,\u001b[0m \u001b[0mreg_fn\u001b[0m\u001b[0;34m=\u001b[0m\u001b[0mself\u001b[0m\u001b[0;34m.\u001b[0m\u001b[0mreg_fn\u001b[0m\u001b[0;34m,\u001b[0m \u001b[0mclip\u001b[0m\u001b[0;34m=\u001b[0m\u001b[0mself\u001b[0m\u001b[0;34m.\u001b[0m\u001b[0mclip\u001b[0m\u001b[0;34m,\u001b[0m \u001b[0mfp16\u001b[0m\u001b[0;34m=\u001b[0m\u001b[0mself\u001b[0m\u001b[0;34m.\u001b[0m\u001b[0mfp16\u001b[0m\u001b[0;34m,\u001b[0m\u001b[0;34m\u001b[0m\u001b[0m\n\u001b[1;32m    233\u001b[0m             \u001b[0mswa_model\u001b[0m\u001b[0;34m=\u001b[0m\u001b[0mself\u001b[0m\u001b[0;34m.\u001b[0m\u001b[0mswa_model\u001b[0m \u001b[0;32mif\u001b[0m \u001b[0muse_swa\u001b[0m \u001b[0;32melse\u001b[0m \u001b[0;32mNone\u001b[0m\u001b[0;34m,\u001b[0m \u001b[0mswa_start\u001b[0m\u001b[0;34m=\u001b[0m\u001b[0mswa_start\u001b[0m\u001b[0;34m,\u001b[0m\u001b[0;34m\u001b[0m\u001b[0m\n\u001b[0;32m--> 234\u001b[0;31m             swa_eval_freq=swa_eval_freq, **kwargs)\n\u001b[0m\u001b[1;32m    235\u001b[0m \u001b[0;34m\u001b[0m\u001b[0m\n\u001b[1;32m    236\u001b[0m     \u001b[0;32mdef\u001b[0m \u001b[0mget_layer_groups\u001b[0m\u001b[0;34m(\u001b[0m\u001b[0mself\u001b[0m\u001b[0;34m)\u001b[0m\u001b[0;34m:\u001b[0m \u001b[0;32mreturn\u001b[0m \u001b[0mself\u001b[0m\u001b[0;34m.\u001b[0m\u001b[0mmodels\u001b[0m\u001b[0;34m.\u001b[0m\u001b[0mget_layer_groups\u001b[0m\u001b[0;34m(\u001b[0m\u001b[0;34m)\u001b[0m\u001b[0;34m\u001b[0m\u001b[0m\n",
      "\u001b[0;32m/notebooks/fastai/model.py\u001b[0m in \u001b[0;36mfit\u001b[0;34m(model, data, n_epochs, opt, crit, metrics, callbacks, stepper, swa_model, swa_start, swa_eval_freq, **kwargs)\u001b[0m\n\u001b[1;32m    134\u001b[0m         \u001b[0;32mif\u001b[0m \u001b[0mall_val\u001b[0m\u001b[0;34m:\u001b[0m \u001b[0mval_iter\u001b[0m \u001b[0;34m=\u001b[0m \u001b[0mIterBatch\u001b[0m\u001b[0;34m(\u001b[0m\u001b[0mcur_data\u001b[0m\u001b[0;34m.\u001b[0m\u001b[0mval_dl\u001b[0m\u001b[0;34m)\u001b[0m\u001b[0;34m\u001b[0m\u001b[0m\n\u001b[1;32m    135\u001b[0m \u001b[0;34m\u001b[0m\u001b[0m\n\u001b[0;32m--> 136\u001b[0;31m         \u001b[0;32mfor\u001b[0m \u001b[0;34m(\u001b[0m\u001b[0;34m*\u001b[0m\u001b[0mx\u001b[0m\u001b[0;34m,\u001b[0m\u001b[0my\u001b[0m\u001b[0;34m)\u001b[0m \u001b[0;32min\u001b[0m \u001b[0mt\u001b[0m\u001b[0;34m:\u001b[0m\u001b[0;34m\u001b[0m\u001b[0m\n\u001b[0m\u001b[1;32m    137\u001b[0m             \u001b[0mbatch_num\u001b[0m \u001b[0;34m+=\u001b[0m \u001b[0;36m1\u001b[0m\u001b[0;34m\u001b[0m\u001b[0m\n\u001b[1;32m    138\u001b[0m             \u001b[0;32mfor\u001b[0m \u001b[0mcb\u001b[0m \u001b[0;32min\u001b[0m \u001b[0mcallbacks\u001b[0m\u001b[0;34m:\u001b[0m \u001b[0mcb\u001b[0m\u001b[0;34m.\u001b[0m\u001b[0mon_batch_begin\u001b[0m\u001b[0;34m(\u001b[0m\u001b[0;34m)\u001b[0m\u001b[0;34m\u001b[0m\u001b[0m\n",
      "\u001b[0;32m/opt/conda/envs/fastai/lib/python3.6/site-packages/tqdm/_tqdm.py\u001b[0m in \u001b[0;36m__iter__\u001b[0;34m(self)\u001b[0m\n\u001b[1;32m    928\u001b[0m \"\"\", fp_write=getattr(self.fp, 'write', sys.stderr.write))\n\u001b[1;32m    929\u001b[0m \u001b[0;34m\u001b[0m\u001b[0m\n\u001b[0;32m--> 930\u001b[0;31m             \u001b[0;32mfor\u001b[0m \u001b[0mobj\u001b[0m \u001b[0;32min\u001b[0m \u001b[0miterable\u001b[0m\u001b[0;34m:\u001b[0m\u001b[0;34m\u001b[0m\u001b[0m\n\u001b[0m\u001b[1;32m    931\u001b[0m                 \u001b[0;32myield\u001b[0m \u001b[0mobj\u001b[0m\u001b[0;34m\u001b[0m\u001b[0m\n\u001b[1;32m    932\u001b[0m                 \u001b[0;31m# Update and possibly print the progressbar.\u001b[0m\u001b[0;34m\u001b[0m\u001b[0;34m\u001b[0m\u001b[0m\n",
      "\u001b[0;32m/notebooks/fastai/dataloader.py\u001b[0m in \u001b[0;36m__iter__\u001b[0;34m(self)\u001b[0m\n\u001b[1;32m     87\u001b[0m                 \u001b[0;32mfor\u001b[0m \u001b[0mc\u001b[0m \u001b[0;32min\u001b[0m \u001b[0mchunk_iter\u001b[0m\u001b[0;34m(\u001b[0m\u001b[0miter\u001b[0m\u001b[0;34m(\u001b[0m\u001b[0mself\u001b[0m\u001b[0;34m.\u001b[0m\u001b[0mbatch_sampler\u001b[0m\u001b[0;34m)\u001b[0m\u001b[0;34m,\u001b[0m \u001b[0mself\u001b[0m\u001b[0;34m.\u001b[0m\u001b[0mnum_workers\u001b[0m\u001b[0;34m*\u001b[0m\u001b[0;36m10\u001b[0m\u001b[0;34m)\u001b[0m\u001b[0;34m:\u001b[0m\u001b[0;34m\u001b[0m\u001b[0m\n\u001b[1;32m     88\u001b[0m                     \u001b[0;32mfor\u001b[0m \u001b[0mbatch\u001b[0m \u001b[0;32min\u001b[0m \u001b[0me\u001b[0m\u001b[0;34m.\u001b[0m\u001b[0mmap\u001b[0m\u001b[0;34m(\u001b[0m\u001b[0mself\u001b[0m\u001b[0;34m.\u001b[0m\u001b[0mget_batch\u001b[0m\u001b[0;34m,\u001b[0m \u001b[0mc\u001b[0m\u001b[0;34m)\u001b[0m\u001b[0;34m:\u001b[0m\u001b[0;34m\u001b[0m\u001b[0m\n\u001b[0;32m---> 89\u001b[0;31m                         \u001b[0;32myield\u001b[0m \u001b[0mget_tensor\u001b[0m\u001b[0;34m(\u001b[0m\u001b[0mbatch\u001b[0m\u001b[0;34m,\u001b[0m \u001b[0mself\u001b[0m\u001b[0;34m.\u001b[0m\u001b[0mpin_memory\u001b[0m\u001b[0;34m,\u001b[0m \u001b[0mself\u001b[0m\u001b[0;34m.\u001b[0m\u001b[0mhalf\u001b[0m\u001b[0;34m)\u001b[0m\u001b[0;34m\u001b[0m\u001b[0m\n\u001b[0m\u001b[1;32m     90\u001b[0m \u001b[0;34m\u001b[0m\u001b[0m\n",
      "\u001b[0;32m/notebooks/fastai/dataloader.py\u001b[0m in \u001b[0;36mget_tensor\u001b[0;34m(batch, pin, half)\u001b[0m\n\u001b[1;32m     18\u001b[0m         \u001b[0;32mreturn\u001b[0m \u001b[0;34m{\u001b[0m\u001b[0mk\u001b[0m\u001b[0;34m:\u001b[0m \u001b[0mget_tensor\u001b[0m\u001b[0;34m(\u001b[0m\u001b[0msample\u001b[0m\u001b[0;34m,\u001b[0m \u001b[0mpin\u001b[0m\u001b[0;34m,\u001b[0m \u001b[0mhalf\u001b[0m\u001b[0;34m)\u001b[0m \u001b[0;32mfor\u001b[0m \u001b[0mk\u001b[0m\u001b[0;34m,\u001b[0m \u001b[0msample\u001b[0m \u001b[0;32min\u001b[0m \u001b[0mbatch\u001b[0m\u001b[0;34m.\u001b[0m\u001b[0mitems\u001b[0m\u001b[0;34m(\u001b[0m\u001b[0;34m)\u001b[0m\u001b[0;34m}\u001b[0m\u001b[0;34m\u001b[0m\u001b[0m\n\u001b[1;32m     19\u001b[0m     \u001b[0;32melif\u001b[0m \u001b[0misinstance\u001b[0m\u001b[0;34m(\u001b[0m\u001b[0mbatch\u001b[0m\u001b[0;34m,\u001b[0m \u001b[0mcollections\u001b[0m\u001b[0;34m.\u001b[0m\u001b[0mSequence\u001b[0m\u001b[0;34m)\u001b[0m\u001b[0;34m:\u001b[0m\u001b[0;34m\u001b[0m\u001b[0m\n\u001b[0;32m---> 20\u001b[0;31m         \u001b[0;32mreturn\u001b[0m \u001b[0;34m[\u001b[0m\u001b[0mget_tensor\u001b[0m\u001b[0;34m(\u001b[0m\u001b[0msample\u001b[0m\u001b[0;34m,\u001b[0m \u001b[0mpin\u001b[0m\u001b[0;34m,\u001b[0m \u001b[0mhalf\u001b[0m\u001b[0;34m)\u001b[0m \u001b[0;32mfor\u001b[0m \u001b[0msample\u001b[0m \u001b[0;32min\u001b[0m \u001b[0mbatch\u001b[0m\u001b[0;34m]\u001b[0m\u001b[0;34m\u001b[0m\u001b[0m\n\u001b[0m\u001b[1;32m     21\u001b[0m     \u001b[0;32mraise\u001b[0m \u001b[0mTypeError\u001b[0m\u001b[0;34m(\u001b[0m\u001b[0;34mf\"batch must contain numbers, dicts or lists; found {type(batch)}\"\u001b[0m\u001b[0;34m)\u001b[0m\u001b[0;34m\u001b[0m\u001b[0m\n\u001b[1;32m     22\u001b[0m \u001b[0;34m\u001b[0m\u001b[0m\n",
      "\u001b[0;32m/notebooks/fastai/dataloader.py\u001b[0m in \u001b[0;36m<listcomp>\u001b[0;34m(.0)\u001b[0m\n\u001b[1;32m     18\u001b[0m         \u001b[0;32mreturn\u001b[0m \u001b[0;34m{\u001b[0m\u001b[0mk\u001b[0m\u001b[0;34m:\u001b[0m \u001b[0mget_tensor\u001b[0m\u001b[0;34m(\u001b[0m\u001b[0msample\u001b[0m\u001b[0;34m,\u001b[0m \u001b[0mpin\u001b[0m\u001b[0;34m,\u001b[0m \u001b[0mhalf\u001b[0m\u001b[0;34m)\u001b[0m \u001b[0;32mfor\u001b[0m \u001b[0mk\u001b[0m\u001b[0;34m,\u001b[0m \u001b[0msample\u001b[0m \u001b[0;32min\u001b[0m \u001b[0mbatch\u001b[0m\u001b[0;34m.\u001b[0m\u001b[0mitems\u001b[0m\u001b[0;34m(\u001b[0m\u001b[0;34m)\u001b[0m\u001b[0;34m}\u001b[0m\u001b[0;34m\u001b[0m\u001b[0m\n\u001b[1;32m     19\u001b[0m     \u001b[0;32melif\u001b[0m \u001b[0misinstance\u001b[0m\u001b[0;34m(\u001b[0m\u001b[0mbatch\u001b[0m\u001b[0;34m,\u001b[0m \u001b[0mcollections\u001b[0m\u001b[0;34m.\u001b[0m\u001b[0mSequence\u001b[0m\u001b[0;34m)\u001b[0m\u001b[0;34m:\u001b[0m\u001b[0;34m\u001b[0m\u001b[0m\n\u001b[0;32m---> 20\u001b[0;31m         \u001b[0;32mreturn\u001b[0m \u001b[0;34m[\u001b[0m\u001b[0mget_tensor\u001b[0m\u001b[0;34m(\u001b[0m\u001b[0msample\u001b[0m\u001b[0;34m,\u001b[0m \u001b[0mpin\u001b[0m\u001b[0;34m,\u001b[0m \u001b[0mhalf\u001b[0m\u001b[0;34m)\u001b[0m \u001b[0;32mfor\u001b[0m \u001b[0msample\u001b[0m \u001b[0;32min\u001b[0m \u001b[0mbatch\u001b[0m\u001b[0;34m]\u001b[0m\u001b[0;34m\u001b[0m\u001b[0m\n\u001b[0m\u001b[1;32m     21\u001b[0m     \u001b[0;32mraise\u001b[0m \u001b[0mTypeError\u001b[0m\u001b[0;34m(\u001b[0m\u001b[0;34mf\"batch must contain numbers, dicts or lists; found {type(batch)}\"\u001b[0m\u001b[0;34m)\u001b[0m\u001b[0;34m\u001b[0m\u001b[0m\n\u001b[1;32m     22\u001b[0m \u001b[0;34m\u001b[0m\u001b[0m\n",
      "\u001b[0;32m/notebooks/fastai/dataloader.py\u001b[0m in \u001b[0;36mget_tensor\u001b[0;34m(batch, pin, half)\u001b[0m\n\u001b[1;32m     10\u001b[0m \u001b[0;32mdef\u001b[0m \u001b[0mget_tensor\u001b[0m\u001b[0;34m(\u001b[0m\u001b[0mbatch\u001b[0m\u001b[0;34m,\u001b[0m \u001b[0mpin\u001b[0m\u001b[0;34m,\u001b[0m \u001b[0mhalf\u001b[0m\u001b[0;34m=\u001b[0m\u001b[0;32mFalse\u001b[0m\u001b[0;34m)\u001b[0m\u001b[0;34m:\u001b[0m\u001b[0;34m\u001b[0m\u001b[0m\n\u001b[1;32m     11\u001b[0m     \u001b[0;32mif\u001b[0m \u001b[0misinstance\u001b[0m\u001b[0;34m(\u001b[0m\u001b[0mbatch\u001b[0m\u001b[0;34m,\u001b[0m \u001b[0;34m(\u001b[0m\u001b[0mnp\u001b[0m\u001b[0;34m.\u001b[0m\u001b[0mndarray\u001b[0m\u001b[0;34m,\u001b[0m \u001b[0mnp\u001b[0m\u001b[0;34m.\u001b[0m\u001b[0mgeneric\u001b[0m\u001b[0;34m)\u001b[0m\u001b[0;34m)\u001b[0m\u001b[0;34m:\u001b[0m\u001b[0;34m\u001b[0m\u001b[0m\n\u001b[0;32m---> 12\u001b[0;31m         \u001b[0mbatch\u001b[0m \u001b[0;34m=\u001b[0m \u001b[0mT\u001b[0m\u001b[0;34m(\u001b[0m\u001b[0mbatch\u001b[0m\u001b[0;34m,\u001b[0m \u001b[0mhalf\u001b[0m\u001b[0;34m=\u001b[0m\u001b[0mhalf\u001b[0m\u001b[0;34m,\u001b[0m \u001b[0mcuda\u001b[0m\u001b[0;34m=\u001b[0m\u001b[0;32mFalse\u001b[0m\u001b[0;34m)\u001b[0m\u001b[0;34m.\u001b[0m\u001b[0mcontiguous\u001b[0m\u001b[0;34m(\u001b[0m\u001b[0;34m)\u001b[0m\u001b[0;34m\u001b[0m\u001b[0m\n\u001b[0m\u001b[1;32m     13\u001b[0m         \u001b[0;32mif\u001b[0m \u001b[0mpin\u001b[0m\u001b[0;34m:\u001b[0m \u001b[0mbatch\u001b[0m \u001b[0;34m=\u001b[0m \u001b[0mbatch\u001b[0m\u001b[0;34m.\u001b[0m\u001b[0mpin_memory\u001b[0m\u001b[0;34m(\u001b[0m\u001b[0;34m)\u001b[0m\u001b[0;34m\u001b[0m\u001b[0m\n\u001b[1;32m     14\u001b[0m         \u001b[0;32mreturn\u001b[0m \u001b[0mto_gpu\u001b[0m\u001b[0;34m(\u001b[0m\u001b[0mbatch\u001b[0m\u001b[0;34m)\u001b[0m\u001b[0;34m\u001b[0m\u001b[0m\n",
      "\u001b[0;32m/notebooks/fastai/core.py\u001b[0m in \u001b[0;36mT\u001b[0;34m(a, half, cuda)\u001b[0m\n\u001b[1;32m     29\u001b[0m     \"\"\"\n\u001b[1;32m     30\u001b[0m     \u001b[0;32mif\u001b[0m \u001b[0;32mnot\u001b[0m \u001b[0mtorch\u001b[0m\u001b[0;34m.\u001b[0m\u001b[0mis_tensor\u001b[0m\u001b[0;34m(\u001b[0m\u001b[0ma\u001b[0m\u001b[0;34m)\u001b[0m\u001b[0;34m:\u001b[0m\u001b[0;34m\u001b[0m\u001b[0m\n\u001b[0;32m---> 31\u001b[0;31m         \u001b[0ma\u001b[0m \u001b[0;34m=\u001b[0m \u001b[0mnp\u001b[0m\u001b[0;34m.\u001b[0m\u001b[0marray\u001b[0m\u001b[0;34m(\u001b[0m\u001b[0mnp\u001b[0m\u001b[0;34m.\u001b[0m\u001b[0mascontiguousarray\u001b[0m\u001b[0;34m(\u001b[0m\u001b[0ma\u001b[0m\u001b[0;34m)\u001b[0m\u001b[0;34m)\u001b[0m\u001b[0;34m\u001b[0m\u001b[0m\n\u001b[0m\u001b[1;32m     32\u001b[0m         \u001b[0;32mif\u001b[0m \u001b[0ma\u001b[0m\u001b[0;34m.\u001b[0m\u001b[0mdtype\u001b[0m \u001b[0;32min\u001b[0m \u001b[0;34m(\u001b[0m\u001b[0mnp\u001b[0m\u001b[0;34m.\u001b[0m\u001b[0mint8\u001b[0m\u001b[0;34m,\u001b[0m \u001b[0mnp\u001b[0m\u001b[0;34m.\u001b[0m\u001b[0mint16\u001b[0m\u001b[0;34m,\u001b[0m \u001b[0mnp\u001b[0m\u001b[0;34m.\u001b[0m\u001b[0mint32\u001b[0m\u001b[0;34m,\u001b[0m \u001b[0mnp\u001b[0m\u001b[0;34m.\u001b[0m\u001b[0mint64\u001b[0m\u001b[0;34m)\u001b[0m\u001b[0;34m:\u001b[0m\u001b[0;34m\u001b[0m\u001b[0m\n\u001b[1;32m     33\u001b[0m             \u001b[0ma\u001b[0m \u001b[0;34m=\u001b[0m \u001b[0mtorch\u001b[0m\u001b[0;34m.\u001b[0m\u001b[0mLongTensor\u001b[0m\u001b[0;34m(\u001b[0m\u001b[0ma\u001b[0m\u001b[0;34m.\u001b[0m\u001b[0mastype\u001b[0m\u001b[0;34m(\u001b[0m\u001b[0mnp\u001b[0m\u001b[0;34m.\u001b[0m\u001b[0mint64\u001b[0m\u001b[0;34m)\u001b[0m\u001b[0;34m)\u001b[0m\u001b[0;34m\u001b[0m\u001b[0m\n",
      "\u001b[0;32m/opt/conda/envs/fastai/lib/python3.6/site-packages/numpy/core/numeric.py\u001b[0m in \u001b[0;36mascontiguousarray\u001b[0;34m(a, dtype)\u001b[0m\n\u001b[1;32m    579\u001b[0m \u001b[0;34m\u001b[0m\u001b[0m\n\u001b[1;32m    580\u001b[0m     \"\"\"\n\u001b[0;32m--> 581\u001b[0;31m     \u001b[0;32mreturn\u001b[0m \u001b[0marray\u001b[0m\u001b[0;34m(\u001b[0m\u001b[0ma\u001b[0m\u001b[0;34m,\u001b[0m \u001b[0mdtype\u001b[0m\u001b[0;34m,\u001b[0m \u001b[0mcopy\u001b[0m\u001b[0;34m=\u001b[0m\u001b[0;32mFalse\u001b[0m\u001b[0;34m,\u001b[0m \u001b[0morder\u001b[0m\u001b[0;34m=\u001b[0m\u001b[0;34m'C'\u001b[0m\u001b[0;34m,\u001b[0m \u001b[0mndmin\u001b[0m\u001b[0;34m=\u001b[0m\u001b[0;36m1\u001b[0m\u001b[0;34m)\u001b[0m\u001b[0;34m\u001b[0m\u001b[0m\n\u001b[0m\u001b[1;32m    582\u001b[0m \u001b[0;34m\u001b[0m\u001b[0m\n\u001b[1;32m    583\u001b[0m \u001b[0;34m\u001b[0m\u001b[0m\n",
      "\u001b[0;31mKeyboardInterrupt\u001b[0m: "
     ]
    }
   ],
   "source": [
    "lr = 0.00001\n",
    "lrs = np.array([lr/9,lr/3,lr])\n",
    "learn.fit(lrs, 1, cycle_len=2, cycle_mult=1)\n",
    " # "
   ]
  },
  {
   "cell_type": "code",
   "execution_count": 18,
   "metadata": {},
   "outputs": [],
   "source": [
    "learn.load(f'rgb_external_resnext_{sz}_3')\n",
    "learn.unfreeze()\n",
    "bs = 16\n",
    "data = get_data(sz, bs)\n",
    "learn.set_data(data)"
   ]
  },
  {
   "cell_type": "code",
   "execution_count": 19,
   "metadata": {},
   "outputs": [
    {
     "data": {
      "application/vnd.jupyter.widget-view+json": {
       "model_id": "463a017f96a9422f9320b9ac247416de",
       "version_major": 2,
       "version_minor": 0
      },
      "text/plain": [
       "HBox(children=(IntProgress(value=0, description='Epoch', max=2), HTML(value='')))"
      ]
     },
     "metadata": {},
     "output_type": "display_data"
    },
    {
     "name": "stdout",
     "output_type": "stream",
     "text": [
      "epoch      trn_loss   val_loss   f1         \n",
      "    0      0.069349   0.07277    0.256155  \n",
      "    1      0.070843   0.07271    0.256082  \n"
     ]
    }
   ],
   "source": [
    "lr = 0.000005\n",
    "lrs = np.array([lr/9,lr/3,lr])\n",
    "learn.fit(lrs, 1, cycle_len=2, cycle_mult=1)\n",
    "learn.save(f'rgb_external_resnext_{sz}_4') # "
   ]
  },
  {
   "cell_type": "code",
   "execution_count": 24,
   "metadata": {},
   "outputs": [],
   "source": [
    "learn.load(f'rgb_external_resnext_{sz}_6')"
   ]
  },
  {
   "cell_type": "code",
   "execution_count": 16,
   "metadata": {},
   "outputs": [
    {
     "name": "stdout",
     "output_type": "stream",
     "text": []
    }
   ],
   "source": [
    "tta_test = learn.TTA(is_test=True)\n",
    "prob_preds = tta_test[0]\n",
    "classes = np.array(data.classes, dtype=str)"
   ]
  },
  {
   "cell_type": "code",
   "execution_count": 16,
   "metadata": {},
   "outputs": [],
   "source": [
    "res = [' '.join(classes[np.where(pred > .2)]) for pred in prob_preds[0]]\n",
    "with open('protein.rgby_external_resnext_5_.2t.csv', 'w') as res_file:\n",
    "        res_file.write('Id,Predicted\\n')\n",
    "        for i in range(len(data.test_ds.fnames)):\n",
    "            res_file.write(data.test_ds.fnames[i][5:-4] + ',' + res[i] + '\\n')  # score .532"
   ]
  },
  {
   "cell_type": "code",
   "execution_count": 42,
   "metadata": {},
   "outputs": [],
   "source": [
    "res = [' '.join(classes[np.where(pred > .3)]) for pred in prob_preds[0]]\n",
    "with open('protein.rgby_external_resnext_1_.3t.csv', 'w') as res_file:\n",
    "        res_file.write('Id,Predicted\\n')\n",
    "        for i in range(len(data.test_ds.fnames)):\n",
    "            res_file.write(data.test_ds.fnames[i][5:-4] + ',' + res[i] + '\\n')  # score .531"
   ]
  },
  {
   "cell_type": "code",
   "execution_count": 43,
   "metadata": {},
   "outputs": [],
   "source": [
    "res = [' '.join(classes[np.where(pred > .5)]) for pred in prob_preds[0]]\n",
    "with open('protein.rgby_external_resnext_1_.5t.csv', 'w') as res_file:\n",
    "        res_file.write('Id,Predicted\\n')\n",
    "        for i in range(len(data.test_ds.fnames)):\n",
    "            res_file.write(data.test_ds.fnames[i][5:-4] + ',' + res[i] + '\\n')  # score  "
   ]
  },
  {
   "cell_type": "code",
   "execution_count": 13,
   "metadata": {},
   "outputs": [
    {
     "name": "stdout",
     "output_type": "stream",
     "text": []
    }
   ],
   "source": []
  },
  {
   "cell_type": "code",
   "execution_count": null,
   "metadata": {},
   "outputs": [],
   "source": [
    "https://www.kaggle.com/c/human-protein-atlas-image-classification/discussion/69984#432870"
   ]
  },
  {
   "cell_type": "code",
   "execution_count": 22,
   "metadata": {},
   "outputs": [],
   "source": [
    "val_preds = learn.predict()"
   ]
  },
  {
   "cell_type": "code",
   "execution_count": null,
   "metadata": {},
   "outputs": [],
   "source": [
    "#preds_y = model.predict(valid_x)\n",
    "preds_y = val_preds\n",
    "valid_y = val_targs\n",
    "from sklearn.metrics import f1_score\n",
    "\n",
    "# one threshold for all\n",
    "thresholds = np.linspace(0, 1, 1500)\n",
    "score = 0.0\n",
    "best_threshold=0.0\n",
    "best_val = 0.0\n",
    "for threshold in thresholds:\n",
    "    score = f1_score(valid_y > 0.5, preds_y > threshold, average='macro')\n",
    "    if score > best_val:\n",
    "        best_threshold = threshold\n",
    "        best_val = score\n",
    "    print(\"Threshold %0.4f, F1: %0.4f\" % (threshold,score))\n",
    "\n",
    "print(\"BEST: %0.5f, F1: %0.5f\" % (best_threshold,best_val))"
   ]
  },
  {
   "cell_type": "code",
   "execution_count": 17,
   "metadata": {},
   "outputs": [],
   "source": [
    "val_preds = learn.predict()\n",
    "val_targs = data.val_y"
   ]
  },
  {
   "cell_type": "code",
   "execution_count": null,
   "metadata": {},
   "outputs": [],
   "source": [
    "\n",
    "\n",
    "#preds_y = model.predict(valid_x)\n",
    "preds_y = val_preds\n",
    "valid_y = val_targs\n",
    "\n",
    "from sklearn.metrics import f1_score\n",
    "\n",
    "# threshold for each class\n",
    "thresholds = np.linspace(0, 1, 1000)\n",
    "score = 0.0\n",
    "test_threshold=0.5*np.ones(28)\n",
    "best_threshold=np.zeros(28)\n",
    "best_val = np.zeros(28)\n",
    "for i in range(28):\n",
    "    for threshold in thresholds:\n",
    "        test_threshold[i] = threshold\n",
    "        max_val = np.max(preds_y)\n",
    "        val_predict = (preds_y > test_threshold)\n",
    "        #score = f1_score(valid_y > 0.5, val_predict, average='macro')\n",
    "        score = f1_score(valid_y, val_predict, average='macro')\n",
    "        if score > best_val[i]:\n",
    "            best_threshold[i] = threshold\n",
    "            best_val[i] = score\n",
    "\n",
    "    print(\"Threshold[%d] %0.6f, F1: %0.6f\" % (i,best_threshold[i],best_val[i]))\n",
    "    test_threshold[i] = best_threshold[i]\n",
    "\n",
    "print(\"Best threshold: \")\n",
    "print(best_threshold)\n",
    "print(\"Best f1:\")\n",
    "print(best_val)"
   ]
  },
  {
   "cell_type": "code",
   "execution_count": 51,
   "metadata": {},
   "outputs": [
    {
     "data": {
      "text/plain": [
       "array([0.42943, 0.42042, 0.22122, 0.20721, 0.32533, 0.16416, 0.45245, 0.93193, 0.43243, 0.24825, 0.25225,\n",
       "       0.29129, 0.34535, 0.42943, 0.33033, 0.16717, 0.31131, 0.60761, 0.37437, 0.36637, 0.22022, 0.42142,\n",
       "       0.26226, 0.31031, 0.20921, 0.29229, 0.22523, 0.44344])"
      ]
     },
     "execution_count": 51,
     "metadata": {},
     "output_type": "execute_result"
    }
   ],
   "source": [
    "val_thresholds4 = np.array([0.42943, 0.42042, 0.22122, 0.20721, 0.32533, 0.16416, 0.45245, 0.93193, 0.43243, 0.24825, 0.25225, 0.29129, 0.34535,\n",
    "                           0.42943, 0.33033, 0.16717, 0.31131, 0.60761, 0.37437, 0.36637, 0.22022, 0.42142, 0.26226, 0.31031, 0.20921, 0.29229,\n",
    "                           0.22523, 0.44344])\n",
    "val_thresholds4 # is for save 4"
   ]
  },
  {
   "cell_type": "code",
   "execution_count": 52,
   "metadata": {},
   "outputs": [
    {
     "data": {
      "text/plain": [
       "array([0.36036, 0.52152, 0.24424, 0.27127, 0.33534, 0.27227, 0.46847, 0.99199, 0.47848, 0.33534, 0.26426,\n",
       "       0.2973 , 0.43544, 0.32132, 0.34935, 0.23624, 0.40541, 0.66366, 0.38939, 0.33834, 0.74575, 0.44545,\n",
       "       0.24324, 0.27327, 0.32332, 0.34735, 0.65165, 0.57057])"
      ]
     },
     "execution_count": 52,
     "metadata": {},
     "output_type": "execute_result"
    }
   ],
   "source": [
    "val_thresholds5 = np.array([0.36036, 0.52152, 0.24424, 0.27127, 0.33534, 0.27227, 0.46847, 0.99199, 0.47848, 0.33534, 0.26426, 0.2973, 0.43544,\n",
    "                            0.32132, 0.34935, 0.23624, 0.40541, 0.66366, 0.38939, 0.33834, 0.74575, 0.44545, 0.24324, 0.27327, 0.32332, 0.34735,\n",
    "                            0.65165, 0.57057])\n",
    "val_thresholds5"
   ]
  },
  {
   "cell_type": "code",
   "execution_count": 23,
   "metadata": {},
   "outputs": [
    {
     "data": {
      "text/plain": [
       "array([0.44645, 0.43844, 0.35235, 0.19119, 0.44945, 0.23724, 0.47548, 0.9    , 0.4955 , 0.37838, 0.31231,\n",
       "       0.3043 , 0.43443, 0.47047, 0.33133, 0.36937, 0.26527, 0.75576, 0.38739, 0.45746, 0.73373, 0.41942,\n",
       "       0.24925, 0.39439, 0.28228, 0.2983 , 0.26927, 0.67968])"
      ]
     },
     "execution_count": 23,
     "metadata": {},
     "output_type": "execute_result"
    }
   ],
   "source": [
    "val_thresholds6 = np.array([0.44645, 0.43844, 0.35235, 0.19119, 0.44945, 0.23724, 0.47548, 0.999, 0.4955, 0.37838, 0.31231, 0.3043, 0.43443,\n",
    "                            0.47047, 0.33133, 0.36937, 0.26527, 0.75576, 0.38739, 0.45746, 0.73373, 0.41942, 0.24925, 0.39439, 0.28228, 0.2983,\n",
    "                            0.26927, 0.67968])\n",
    "\n",
    "val_thresholds6 = np.array([0.44645, 0.43844, 0.35235, 0.19119, 0.44945, 0.23724, 0.47548, 0.9, 0.4955, 0.37838, 0.31231, 0.3043, 0.43443,\n",
    "                            0.47047, 0.33133, 0.36937, 0.26527, 0.75576, 0.38739, 0.45746, 0.73373, 0.41942, 0.24925, 0.39439, 0.28228, 0.2983,\n",
    "                            0.26927, 0.67968])\n",
    "\n",
    "val_thresholds6 # is for save 6"
   ]
  },
  {
   "cell_type": "code",
   "execution_count": 23,
   "metadata": {},
   "outputs": [
    {
     "data": {
      "text/plain": [
       "array([0.41208, 0.46013, 0.2726 , 0.22322, 0.37004, 0.22456, 0.46547, 0.94131, 0.4688 , 0.32066, 0.27627,\n",
       "       0.29763, 0.40507, 0.40707, 0.337  , 0.25759, 0.32733, 0.67568, 0.38372, 0.38739, 0.56657, 0.42876,\n",
       "       0.25158, 0.32599, 0.2716 , 0.31265, 0.38205, 0.56456])"
      ]
     },
     "execution_count": 23,
     "metadata": {},
     "output_type": "execute_result"
    }
   ],
   "source": [
    "val_thresholds_mean = np.mean([val_thresholds4,val_thresholds5,val_thresholds6], axis=0)\n",
    "val_thresholds_mean"
   ]
  },
  {
   "cell_type": "code",
   "execution_count": 21,
   "metadata": {},
   "outputs": [],
   "source": [
    "classes = np.array(data.classes, dtype=str)\n",
    "res = [' '.join(classes[np.where(pred > val_thresholds6)]) for pred in prob_preds[0]]\n",
    "with open('protein.rgby_external_resnext_6_val_thresholds.csv', 'w') as res_file:\n",
    "        res_file.write('Id,Predicted\\n')\n",
    "        for i in range(len(data.test_ds.fnames)):\n",
    "            res_file.write(data.test_ds.fnames[i][5:-4] + ',' + res[i] + '\\n')  # score .531"
   ]
  },
  {
   "cell_type": "code",
   "execution_count": 23,
   "metadata": {},
   "outputs": [],
   "source": [
    "res = [' '.join(classes[np.where(pred > val_thresholds6*.75)]) for pred in prob_preds[0]]\n",
    "with open('protein.rgby_external_resnext_6_val_thresholds_times.75.csv', 'w') as res_file:\n",
    "        res_file.write('Id,Predicted\\n')\n",
    "        for i in range(len(data.test_ds.fnames)):\n",
    "            res_file.write(data.test_ds.fnames[i][5:-4] + ',' + res[i] + '\\n')  # scored 0.538"
   ]
  },
  {
   "cell_type": "code",
   "execution_count": 24,
   "metadata": {},
   "outputs": [],
   "source": [
    "res = [' '.join(classes[np.where(pred > val_thresholds_mean*.5)]) for pred in prob_preds[0]]\n",
    "with open('protein.rgby_external_resnext_5_val_thresholds_mean_times.5.csv', 'w') as res_file:\n",
    "        res_file.write('Id,Predicted\\n')\n",
    "        for i in range(len(data.test_ds.fnames)):\n",
    "            res_file.write(data.test_ds.fnames[i][5:-4] + ',' + res[i] + '\\n')  # scored 0.538"
   ]
  },
  {
   "cell_type": "code",
   "execution_count": 59,
   "metadata": {},
   "outputs": [],
   "source": [
    "res = [' '.join(classes[np.where(pred > val_thresholds*.25)]) for pred in prob_preds[0]]\n",
    "with open('protein.rgby_external_resnext_1_val_thresholds_times.25.csv', 'w') as res_file:\n",
    "        res_file.write('Id,Predicted\\n')\n",
    "        for i in range(len(data.test_ds.fnames)):\n",
    "            res_file.write(data.test_ds.fnames[i][5:-4] + ',' + res[i] + '\\n')  # scored 0.513"
   ]
  },
  {
   "cell_type": "code",
   "execution_count": null,
   "metadata": {},
   "outputs": [],
   "source": []
  },
  {
   "cell_type": "code",
   "execution_count": 15,
   "metadata": {},
   "outputs": [
    {
     "data": {
      "application/vnd.jupyter.widget-view+json": {
       "model_id": "b1ba9660447a45999d4b685214d258db",
       "version_major": 2,
       "version_minor": 0
      },
      "text/plain": [
       "HBox(children=(IntProgress(value=0, description='Epoch', max=2), HTML(value='')))"
      ]
     },
     "metadata": {},
     "output_type": "display_data"
    },
    {
     "name": "stdout",
     "output_type": "stream",
     "text": [
      "epoch      trn_loss   val_loss   f1         \n",
      "    0      0.069824   0.073369   0.257502  \n",
      "    1      0.072701   0.072908   0.258255  \n",
      "\n"
     ]
    }
   ],
   "source": [
    "#lr = 0.000005\n",
    "lr = 0.000000005\n",
    "lrs = np.array([lr/12,lr/6,lr])\n",
    "learn.fit(lrs, 1, cycle_len=2, cycle_mult=1)\n",
    "learn.save(f'rgb_external_resnext_{sz}_5') # "
   ]
  },
  {
   "cell_type": "code",
   "execution_count": 14,
   "metadata": {},
   "outputs": [],
   "source": [
    "learn.load(f'rgb_external_resnext_{sz}_5') # "
   ]
  },
  {
   "cell_type": "code",
   "execution_count": 15,
   "metadata": {},
   "outputs": [
    {
     "data": {
      "application/vnd.jupyter.widget-view+json": {
       "model_id": "7bdcef9a4baf4bc1925bc221e7529be4",
       "version_major": 2,
       "version_minor": 0
      },
      "text/plain": [
       "HBox(children=(IntProgress(value=0, description='Epoch', max=2), HTML(value='')))"
      ]
     },
     "metadata": {},
     "output_type": "display_data"
    },
    {
     "name": "stdout",
     "output_type": "stream",
     "text": [
      "epoch      trn_loss   val_loss   f1         \n",
      "    0      0.07531    0.072817   0.25792   \n",
      "    1      0.074533   0.073054   0.257885  \n",
      "\n"
     ]
    }
   ],
   "source": [
    "#lr = 0.000005\n",
    "lr = 0.00000001\n",
    "lrs = np.array([lr/12,lr/6,lr])\n",
    "learn.fit(lrs, 1, cycle_len=2, cycle_mult=1)\n",
    "learn.save(f'rgb_external_resnext_{sz}_6') # "
   ]
  },
  {
   "cell_type": "code",
   "execution_count": null,
   "metadata": {},
   "outputs": [],
   "source": []
  },
  {
   "cell_type": "code",
   "execution_count": null,
   "metadata": {},
   "outputs": [],
   "source": []
  },
  {
   "cell_type": "code",
   "execution_count": null,
   "metadata": {},
   "outputs": [],
   "source": []
  },
  {
   "cell_type": "code",
   "execution_count": 26,
   "metadata": {},
   "outputs": [],
   "source": [
    "prob_preds = tta_test[0]\n",
    "classes = np.array(data.classes, dtype=str)\n",
    "\n",
    "res = []\n",
    "for pred in prob_preds[0]:\n",
    "    thresh = val_thresholds\n",
    "    p = None\n",
    "    while p is None:\n",
    "        p = classes[np.where(pred > thresh)]\n",
    "        thresh *= .95\n",
    "    res.append(' '.join(p))\n"
   ]
  },
  {
   "cell_type": "code",
   "execution_count": 30,
   "metadata": {},
   "outputs": [],
   "source": [
    "res = [' '.join(classes[np.where(pred > val_thresholds)]) for pred in prob_preds[0]]"
   ]
  },
  {
   "cell_type": "code",
   "execution_count": 31,
   "metadata": {},
   "outputs": [],
   "source": [
    "with open('protein.rgb_external_resnext_focal_.30_.tunedthresholds.csv', 'w') as res_file:\n",
    "        res_file.write('Id,Predicted\\n')\n",
    "        for i in range(len(data.test_ds.fnames)):\n",
    "            res_file.write(data.test_ds.fnames[i][5:-4] + ',' + res[i] + '\\n')       "
   ]
  },
  {
   "cell_type": "code",
   "execution_count": 32,
   "metadata": {},
   "outputs": [],
   "source": [
    "name_label_dict = {\n",
    "0:  'Nucleoplasm',\n",
    "1:  'Nuclear membrane',\n",
    "2:  'Nucleoli',   \n",
    "3:  'Nucleoli fibrillar center',\n",
    "4:  'Nuclear speckles',\n",
    "5:  'Nuclear bodies',\n",
    "6:  'Endoplasmic reticulum',   \n",
    "7:  'Golgi apparatus',\n",
    "8:  'Peroxisomes',\n",
    "9:  'Endosomes',\n",
    "10:  'Lysosomes',\n",
    "11:  'Intermediate filaments',\n",
    "12:  'Actin filaments',\n",
    "13:  'Focal adhesion sites',   \n",
    "14:  'Microtubules',\n",
    "15:  'Microtubule ends',  \n",
    "16:  'Cytokinetic bridge',   \n",
    "17:  'Mitotic spindle',\n",
    "18:  'Microtubule organizing center',  \n",
    "19:  'Centrosome',\n",
    "20:  'Lipid droplets',\n",
    "21:  'Plasma membrane',   \n",
    "22:  'Cell junctions', \n",
    "23:  'Mitochondria',\n",
    "24:  'Aggresome',\n",
    "25:  'Cytosol',\n",
    "26:  'Cytoplasmic bodies',   \n",
    "27:  'Rods & rings' }"
   ]
  },
  {
   "cell_type": "code",
   "execution_count": 33,
   "metadata": {},
   "outputs": [],
   "source": [
    "ext_data = pd.read_csv('protein/subcellular_location.tsv', sep='\\t')\n",
    "ext_fnames = [a+'-'+b for a,b in zip(ext_data['Gene'], ext_data['Gene name'])]\n",
    "ext_labels = ext_data.iloc[:,3:10].copy() # probably dont need to copy()?\n",
    "\n",
    "import csv\n",
    "from itertools import chain\n",
    "import os\n",
    "all_ext_files = os.listdir('protein/external_data')\n",
    "ext_data_exp = []\n",
    "for i in range(len(ext_data)):\n",
    "    if ext_data['Reliability'][i] != 'Uncertain':\n",
    "        labs = []        \n",
    "        for lab in ext_labels.iloc[i,:]:\n",
    "            if isinstance(lab, str):\n",
    "                ids = ([[str(k) for k,v in name_label_dict.items() if v == l] for l in lab.split(';')])\n",
    "                ids = [' '.join(list(chain.from_iterable(ids)))]\n",
    "                if ids != ['']:\n",
    "                    labs = labs + ids \n",
    "        #if ext_fnames[i]==\"ENSG00000005381-MPO\":\n",
    "        #        print(labs, labs==[''], labs==[])\n",
    "        #        a\n",
    "        if labs != []:\n",
    "            j = 0   \n",
    "            while True:\n",
    "                jname = ext_fnames[i] + '_' + str(j) + '.png'\n",
    "                if jname not in all_ext_files: break\n",
    "                img = cv2.imread('protein/external_data/' + jname).astype(np.float32)\n",
    "                b,g,r = cv2.split(img)\n",
    "                sz = 512                                \n",
    "                for imag, colour in zip([b,g,r],['blue', 'green', 'red']):   \n",
    "                    p=300                    \n",
    "                    img = np.int16(imag)          \n",
    "                    img = img * 1.275\n",
    "                    img = np.clip(img, 0, 255)\n",
    "                    img = np.uint8(img)       \n",
    "                    img =cv2.copyMakeBorder(img,p,p,p,p,cv2.BORDER_CONSTANT,value=[0])\n",
    "                    img = cv2.resize(img, (sz, sz), cv2.INTER_AREA)                        \n",
    "                    #cv2.imwrite('protein/external_proc/' + fnames[i], img)\n",
    "                    cv2.imwrite('protein/e_rgb/' + jname[:-4] + '_' + colour + '.png', img)\n",
    "                #cv2.imwrite('protein/e_rgb/' + jname[:-4] + '_blue.png', cv2.resize(b, (sz, sz), cv2.INTER_AREA))\n",
    "                #cv2.imwrite('protein/e_rgb/' + jname[:-4] + '_green.png', cv2.resize(g, (sz, sz), cv2.INTER_AREA))\n",
    "                #cv2.imwrite('protein/e_rgb/' + jname[:-4] + '_red.png', cv2.resize(r, (sz, sz), cv2.INTER_AREA))                        \n",
    "                ext_data_exp.append([ext_fnames[i] + '_' + str(j), labs[0]])\n",
    "                j+=1\n",
    "\n",
    "\n",
    "with open('protein/ext_output.csv', 'w', newline='') as f:\n",
    "    writer = csv.writer(f)\n",
    "    writer.writerows(ext_data_exp)\n"
   ]
  },
  {
   "cell_type": "code",
   "execution_count": 2,
   "metadata": {},
   "outputs": [
    {
     "name": "stdout",
     "output_type": "stream",
     "text": [
      "label_counts {0: 40958, 1: 3072, 2: 10871, 3: 3329, 4: 5130, 5: 5938, 6: 3725, 7: 9405, 8: 217, 9: 197, 10: 182, 11: 2194, 12: 2233, 13: 1458, 14: 2692, 15: 63, 16: 1290, 17: 446, 18: 1893, 19: 3672, 20: 438, 21: 13809, 22: 2729, 23: 10345, 24: 428, 25: 37366, 26: 706, 27: 127}\n",
      "max_label_count 40958\n"
     ]
    }
   ],
   "source": [
    "# https://www.kaggle.com/jschnab/exploring-the-human-protein-atlas-images\n",
    "# not including the high labels:\n",
    "# for each label and each class, duplicate by\n",
    "# max(1 - label_count / max_label_count) * copy_number\n",
    "import csv\n",
    "import pandas as pd\n",
    "train_csv = pd.read_csv('../storage/train.csv')\n",
    "copy_dict = {'8': 4,\n",
    "             '9': 4,\n",
    "             '10': 4,\n",
    "             '15': 19,\n",
    "             '17': 1,\n",
    "             '20': 1,\n",
    "             '24': 1,\n",
    "             '27': 4}\n",
    "labels_num = [value.split() for value in train_csv['Target'].astype(str)]\n",
    "labels_num_flat = list(map(int, [item for sublist in labels_num for item in sublist]))\n",
    "label_counts = dict((x,labels_num_flat.count(x)) for x in set(labels_num_flat))\n",
    "max_label_count = max(label_counts.values())\n",
    "dup_data_exp = []\n",
    "from pathlib import Path\n",
    "print('label_counts',label_counts)\n",
    "print('max_label_count',max_label_count)\n",
    "from shutil import copyfile\n",
    "for id, targs in zip(train_csv['Id'], train_csv['Target']):    \n",
    "    label_increase = [copy_dict.get(c, 0) for c in targs.split()]        \n",
    "    if max(label_increase)>0: \n",
    "        n_dups = max(label_increase)\n",
    "        # copy the file n_dups times\n",
    "        for n in range(n_dups):\n",
    "            d_id = id + 'dup_' + str(n)\n",
    "            copyfile('../storage/train/' + id + '_red.png', '../storage/dups/' + d_id + '_red.png')\n",
    "            copyfile('../storage/train/' + id + '_green.png', '../storage/dups/' + d_id + '_green.png')\n",
    "            copyfile('../storage/train/' + id + '_blue.png', '../storage/dups/' + d_id + '_blue.png')\n",
    "            copyfile('../storage/train/' + id + '_yellow.png', '../storage/dups/' + d_id + '_yellow.png')\n",
    "            dup_data_exp.append([d_id, targs])\n",
    "        \n",
    "with open('../storage/dup_output.csv', 'w', newline='') as f:\n",
    "    writer = csv.writer(f)\n",
    "    writer.writerows(dup_data_exp)"
   ]
  },
  {
   "cell_type": "code",
   "execution_count": 9,
   "metadata": {},
   "outputs": [],
   "source": [
    "train_csv = pd.read_csv('../storage/train.csv')\n",
    "for i, v in zip(train_csv['Id'], train_csv['Target']):\n",
    "    if isinstance(v, float):\n",
    "        print('n', i, v)"
   ]
  },
  {
   "cell_type": "code",
   "execution_count": 10,
   "metadata": {},
   "outputs": [
    {
     "name": "stdout",
     "output_type": "stream",
     "text": [
      "label_counts {0: 41763, 1: 3073, 2: 11378, 3: 3426, 4: 5176, 5: 6155, 6: 3875, 7: 9502, 8: 1085, 9: 985, 10: 910, 11: 2234, 12: 2347, 13: 1458, 14: 2800, 15: 1260, 16: 1726, 17: 892, 18: 2018, 19: 3751, 20: 876, 21: 14235, 22: 2847, 23: 10441, 24: 856, 25: 38386, 26: 706, 27: 635}\n",
      "max_label_count 41763\n"
     ]
    }
   ],
   "source": [
    "import pandas as pd\n",
    "train_csv = pd.read_csv('../storage/train.csv')\n",
    "copy_number = 1\n",
    "labels_num = [value.split() for value in train_csv['Target'].astype(str)]\n",
    "labels_num_flat = list(map(int, [item for sublist in labels_num for item in sublist]))\n",
    "label_counts = dict((x,labels_num_flat.count(x)) for x in set(labels_num_flat))\n",
    "max_label_count = max(label_counts.values())\n",
    "print('label_counts',label_counts)\n",
    "print('max_label_count',max_label_count)"
   ]
  },
  {
   "cell_type": "code",
   "execution_count": null,
   "metadata": {},
   "outputs": [],
   "source": []
  },
  {
   "cell_type": "code",
   "execution_count": null,
   "metadata": {},
   "outputs": [],
   "source": []
  },
  {
   "cell_type": "code",
   "execution_count": null,
   "metadata": {},
   "outputs": [],
   "source": []
  },
  {
   "cell_type": "code",
   "execution_count": null,
   "metadata": {},
   "outputs": [],
   "source": []
  },
  {
   "cell_type": "code",
   "execution_count": 30,
   "metadata": {},
   "outputs": [],
   "source": [
    "flags = cv2.IMREAD_GRAYSCALE    \n",
    "#import random\n",
    "#r = random.randint(100, 1000)\n",
    "\n",
    "fnames = os.listdir('protein/external_data')\n",
    "for i in range(len(fnames)):        \n",
    "    img = cv2.imread('protein/external_data/' + fnames[i], flags)*1.0    \n",
    "    p=300        \n",
    "    #kernel = np.array([[0,-1,0], [-1,6,-1], [0,-1,0]])\n",
    "    #img = cv2.filter2D(img, -1, kernel)    \n",
    "    #contrast = 15\n",
    "    #brightness = 30\n",
    "    img = np.int16(img)\n",
    "    #img = img * (contrast/127+1) - contrast + brightness\n",
    "    img = img * 1.275\n",
    "    img = np.clip(img, 0, 255)\n",
    "    img = np.uint8(img)       \n",
    "    img =cv2.copyMakeBorder(img,p,p,p,p,cv2.BORDER_CONSTANT,value=[0])\n",
    "    img = cv2.resize(img, (512, 512), cv2.INTER_AREA)    \n",
    "    #cv2.imshow('a',img)\n",
    "    #cv2.waitKey(0)\n",
    "    #cv2.destroyAllWindows()    \n",
    "    cv2.imwrite('protein/external_proc/' + fnames[i], img)"
   ]
  },
  {
   "cell_type": "code",
   "execution_count": null,
   "metadata": {},
   "outputs": [],
   "source": []
  },
  {
   "cell_type": "code",
   "execution_count": null,
   "metadata": {},
   "outputs": [],
   "source": []
  },
  {
   "cell_type": "code",
   "execution_count": null,
   "metadata": {},
   "outputs": [],
   "source": [
    "import random\n",
    "i = random.randint(0,1000)\n",
    "pp = learn.predict_array([data.trn_ds[i][0]])\n",
    "classes = np.array(data.classes, dtype=str)\n",
    "[' '.join(classes[np.where(pred > val_thresholds6*.5)]) for pred in pp], [' '.join(classes[np.where(d==1)]) for d in [data.trn_ds.y[0]]]"
   ]
  }
 ],
 "metadata": {
  "kernelspec": {
   "display_name": "Python 3",
   "language": "python",
   "name": "python3"
  },
  "language_info": {
   "codemirror_mode": {
    "name": "ipython",
    "version": 3
   },
   "file_extension": ".py",
   "mimetype": "text/x-python",
   "name": "python",
   "nbconvert_exporter": "python",
   "pygments_lexer": "ipython3",
   "version": "3.6.5"
  }
 },
 "nbformat": 4,
 "nbformat_minor": 2
}
